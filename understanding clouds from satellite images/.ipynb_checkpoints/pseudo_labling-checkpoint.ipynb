{
 "cells": [
  {
   "cell_type": "code",
   "execution_count": 5,
   "metadata": {},
   "outputs": [],
   "source": [
    "import numpy as np\n",
    "import pandas as pd\n",
    "import os\n",
    "os.listdir()\n",
    "image_area = 288*512 "
   ]
  },
  {
   "cell_type": "code",
   "execution_count": 6,
   "metadata": {},
   "outputs": [
    {
     "data": {
      "text/html": [
       "<div>\n",
       "<style scoped>\n",
       "    .dataframe tbody tr th:only-of-type {\n",
       "        vertical-align: middle;\n",
       "    }\n",
       "\n",
       "    .dataframe tbody tr th {\n",
       "        vertical-align: top;\n",
       "    }\n",
       "\n",
       "    .dataframe thead th {\n",
       "        text-align: right;\n",
       "    }\n",
       "</style>\n",
       "<table border=\"1\" class=\"dataframe\">\n",
       "  <thead>\n",
       "    <tr style=\"text-align: right;\">\n",
       "      <th></th>\n",
       "      <th>Image_Label</th>\n",
       "      <th>EncodedPixels</th>\n",
       "      <th>0.05</th>\n",
       "      <th>0.1</th>\n",
       "      <th>0.15</th>\n",
       "      <th>0.2</th>\n",
       "      <th>0.8</th>\n",
       "      <th>0.85</th>\n",
       "      <th>0.9</th>\n",
       "      <th>0.95</th>\n",
       "    </tr>\n",
       "  </thead>\n",
       "  <tbody>\n",
       "    <tr>\n",
       "      <td>0</td>\n",
       "      <td>002f507.jpg_Fish</td>\n",
       "      <td>NaN</td>\n",
       "      <td>147453</td>\n",
       "      <td>147456</td>\n",
       "      <td>147456</td>\n",
       "      <td>147456</td>\n",
       "      <td>0</td>\n",
       "      <td>0</td>\n",
       "      <td>0</td>\n",
       "      <td>0</td>\n",
       "    </tr>\n",
       "    <tr>\n",
       "      <td>1</td>\n",
       "      <td>002f507.jpg_Flower</td>\n",
       "      <td>NaN</td>\n",
       "      <td>147456</td>\n",
       "      <td>147456</td>\n",
       "      <td>147456</td>\n",
       "      <td>147456</td>\n",
       "      <td>0</td>\n",
       "      <td>0</td>\n",
       "      <td>0</td>\n",
       "      <td>0</td>\n",
       "    </tr>\n",
       "    <tr>\n",
       "      <td>2</td>\n",
       "      <td>002f507.jpg_Gravel</td>\n",
       "      <td>4 335 352 343 702 346 1051 348 1401 348 1751 3...</td>\n",
       "      <td>21511</td>\n",
       "      <td>24413</td>\n",
       "      <td>25798</td>\n",
       "      <td>26924</td>\n",
       "      <td>106225</td>\n",
       "      <td>102819</td>\n",
       "      <td>97605</td>\n",
       "      <td>82197</td>\n",
       "    </tr>\n",
       "    <tr>\n",
       "      <td>3</td>\n",
       "      <td>002f507.jpg_Sugar</td>\n",
       "      <td>NaN</td>\n",
       "      <td>104072</td>\n",
       "      <td>131576</td>\n",
       "      <td>140337</td>\n",
       "      <td>143285</td>\n",
       "      <td>0</td>\n",
       "      <td>0</td>\n",
       "      <td>0</td>\n",
       "      <td>0</td>\n",
       "    </tr>\n",
       "    <tr>\n",
       "      <td>4</td>\n",
       "      <td>0035ae9.jpg_Fish</td>\n",
       "      <td>NaN</td>\n",
       "      <td>75293</td>\n",
       "      <td>90689</td>\n",
       "      <td>100987</td>\n",
       "      <td>109527</td>\n",
       "      <td>0</td>\n",
       "      <td>0</td>\n",
       "      <td>0</td>\n",
       "      <td>0</td>\n",
       "    </tr>\n",
       "  </tbody>\n",
       "</table>\n",
       "</div>"
      ],
      "text/plain": [
       "          Image_Label                                      EncodedPixels  \\\n",
       "0    002f507.jpg_Fish                                                NaN   \n",
       "1  002f507.jpg_Flower                                                NaN   \n",
       "2  002f507.jpg_Gravel  4 335 352 343 702 346 1051 348 1401 348 1751 3...   \n",
       "3   002f507.jpg_Sugar                                                NaN   \n",
       "4    0035ae9.jpg_Fish                                                NaN   \n",
       "\n",
       "     0.05     0.1    0.15     0.2     0.8    0.85    0.9   0.95  \n",
       "0  147453  147456  147456  147456       0       0      0      0  \n",
       "1  147456  147456  147456  147456       0       0      0      0  \n",
       "2   21511   24413   25798   26924  106225  102819  97605  82197  \n",
       "3  104072  131576  140337  143285       0       0      0      0  \n",
       "4   75293   90689  100987  109527       0       0      0      0  "
      ]
     },
     "execution_count": 6,
     "metadata": {},
     "output_type": "execute_result"
    }
   ],
   "source": [
    "df = pd.read_csv(\"pseudo_labeling.csv\")\n",
    "df.head()"
   ]
  },
  {
   "cell_type": "code",
   "execution_count": 7,
   "metadata": {},
   "outputs": [],
   "source": [
    "def foo(x,l=\"0.05\",h=\"0.95\",th=0.95):\n",
    "    if (x[l]+x[h])/image_area > th:\n",
    "        return 1\n",
    "    else:\n",
    "        return 0"
   ]
  },
  {
   "cell_type": "code",
   "execution_count": 8,
   "metadata": {},
   "outputs": [
    {
     "data": {
      "text/plain": [
       "False    6322\n",
       "True      541\n",
       "Name: EncodedPixels, dtype: int64"
      ]
     },
     "execution_count": 8,
     "metadata": {},
     "output_type": "execute_result"
    }
   ],
   "source": [
    "df[\"pseudo_label_individual\"] = df.apply(foo,args=(\"0.2\",\"0.8\",0.9),axis=1)\n",
    "df.loc[(df.pseudo_label_individual == 1),\"EncodedPixels\"].notnull().value_counts()"
   ]
  },
  {
   "cell_type": "code",
   "execution_count": 11,
   "metadata": {},
   "outputs": [
    {
     "data": {
      "text/plain": [
       "array(['002f507.jpg', '0035ae9.jpg', '0038327.jpg', '004f759.jpg',\n",
       "       '005ba08.jpg', '006440a.jpg', '006f61b.jpg', '0078e5a.jpg',\n",
       "       '008fc8a.jpg', '0096937.jpg'], dtype=object)"
      ]
     },
     "execution_count": 11,
     "metadata": {},
     "output_type": "execute_result"
    }
   ],
   "source": [
    "name = df.Image_Label.apply(lambda x: x.split(\"_\")[0]).unique()\n",
    "name[:10]"
   ]
  },
  {
   "cell_type": "code",
   "execution_count": 12,
   "metadata": {},
   "outputs": [
    {
     "data": {
      "text/plain": [
       "3698"
      ]
     },
     "execution_count": 12,
     "metadata": {},
     "output_type": "execute_result"
    }
   ],
   "source": [
    "len(name)"
   ]
  },
  {
   "cell_type": "code",
   "execution_count": 15,
   "metadata": {},
   "outputs": [],
   "source": [
    "labels = [\"Fish\",\"Flower\",\"Gravel\",\"Sugar\"]"
   ]
  },
  {
   "cell_type": "code",
   "execution_count": 16,
   "metadata": {},
   "outputs": [],
   "source": [
    "for pn in name:\n",
    "    all_names = [pn+\"_\"+l for l in labels]\n",
    "    temp = df[df.Image_Label.isin(all_names)]\n",
    "    proba = (sum(temp[\"0.2\"].values)+sum(temp[\"0.8\"].values))/(image_area*4)\n",
    "    if proba>0.9:\n",
    "        value = 1\n",
    "    else:\n",
    "        value = 0\n",
    "    df.loc[df.Image_Label.isin(all_names),\"pseudo_group\"] = value\n",
    "  "
   ]
  },
  {
   "cell_type": "code",
   "execution_count": 17,
   "metadata": {},
   "outputs": [
    {
     "data": {
      "text/html": [
       "<div>\n",
       "<style scoped>\n",
       "    .dataframe tbody tr th:only-of-type {\n",
       "        vertical-align: middle;\n",
       "    }\n",
       "\n",
       "    .dataframe tbody tr th {\n",
       "        vertical-align: top;\n",
       "    }\n",
       "\n",
       "    .dataframe thead th {\n",
       "        text-align: right;\n",
       "    }\n",
       "</style>\n",
       "<table border=\"1\" class=\"dataframe\">\n",
       "  <thead>\n",
       "    <tr style=\"text-align: right;\">\n",
       "      <th></th>\n",
       "      <th>Image_Label</th>\n",
       "      <th>EncodedPixels</th>\n",
       "      <th>0.05</th>\n",
       "      <th>0.1</th>\n",
       "      <th>0.15</th>\n",
       "      <th>0.2</th>\n",
       "      <th>0.8</th>\n",
       "      <th>0.85</th>\n",
       "      <th>0.9</th>\n",
       "      <th>0.95</th>\n",
       "      <th>pseudo_label_individual</th>\n",
       "      <th>pseudo_group</th>\n",
       "    </tr>\n",
       "  </thead>\n",
       "  <tbody>\n",
       "    <tr>\n",
       "      <td>0</td>\n",
       "      <td>002f507.jpg_Fish</td>\n",
       "      <td>NaN</td>\n",
       "      <td>147453</td>\n",
       "      <td>147456</td>\n",
       "      <td>147456</td>\n",
       "      <td>147456</td>\n",
       "      <td>0</td>\n",
       "      <td>0</td>\n",
       "      <td>0</td>\n",
       "      <td>0</td>\n",
       "      <td>1</td>\n",
       "      <td>1.0</td>\n",
       "    </tr>\n",
       "    <tr>\n",
       "      <td>1</td>\n",
       "      <td>002f507.jpg_Flower</td>\n",
       "      <td>NaN</td>\n",
       "      <td>147456</td>\n",
       "      <td>147456</td>\n",
       "      <td>147456</td>\n",
       "      <td>147456</td>\n",
       "      <td>0</td>\n",
       "      <td>0</td>\n",
       "      <td>0</td>\n",
       "      <td>0</td>\n",
       "      <td>1</td>\n",
       "      <td>1.0</td>\n",
       "    </tr>\n",
       "    <tr>\n",
       "      <td>2</td>\n",
       "      <td>002f507.jpg_Gravel</td>\n",
       "      <td>4 335 352 343 702 346 1051 348 1401 348 1751 3...</td>\n",
       "      <td>21511</td>\n",
       "      <td>24413</td>\n",
       "      <td>25798</td>\n",
       "      <td>26924</td>\n",
       "      <td>106225</td>\n",
       "      <td>102819</td>\n",
       "      <td>97605</td>\n",
       "      <td>82197</td>\n",
       "      <td>1</td>\n",
       "      <td>1.0</td>\n",
       "    </tr>\n",
       "    <tr>\n",
       "      <td>3</td>\n",
       "      <td>002f507.jpg_Sugar</td>\n",
       "      <td>NaN</td>\n",
       "      <td>104072</td>\n",
       "      <td>131576</td>\n",
       "      <td>140337</td>\n",
       "      <td>143285</td>\n",
       "      <td>0</td>\n",
       "      <td>0</td>\n",
       "      <td>0</td>\n",
       "      <td>0</td>\n",
       "      <td>1</td>\n",
       "      <td>1.0</td>\n",
       "    </tr>\n",
       "    <tr>\n",
       "      <td>4</td>\n",
       "      <td>0035ae9.jpg_Fish</td>\n",
       "      <td>NaN</td>\n",
       "      <td>75293</td>\n",
       "      <td>90689</td>\n",
       "      <td>100987</td>\n",
       "      <td>109527</td>\n",
       "      <td>0</td>\n",
       "      <td>0</td>\n",
       "      <td>0</td>\n",
       "      <td>0</td>\n",
       "      <td>0</td>\n",
       "      <td>0.0</td>\n",
       "    </tr>\n",
       "  </tbody>\n",
       "</table>\n",
       "</div>"
      ],
      "text/plain": [
       "          Image_Label                                      EncodedPixels  \\\n",
       "0    002f507.jpg_Fish                                                NaN   \n",
       "1  002f507.jpg_Flower                                                NaN   \n",
       "2  002f507.jpg_Gravel  4 335 352 343 702 346 1051 348 1401 348 1751 3...   \n",
       "3   002f507.jpg_Sugar                                                NaN   \n",
       "4    0035ae9.jpg_Fish                                                NaN   \n",
       "\n",
       "     0.05     0.1    0.15     0.2     0.8    0.85    0.9   0.95  \\\n",
       "0  147453  147456  147456  147456       0       0      0      0   \n",
       "1  147456  147456  147456  147456       0       0      0      0   \n",
       "2   21511   24413   25798   26924  106225  102819  97605  82197   \n",
       "3  104072  131576  140337  143285       0       0      0      0   \n",
       "4   75293   90689  100987  109527       0       0      0      0   \n",
       "\n",
       "   pseudo_label_individual  pseudo_group  \n",
       "0                        1           1.0  \n",
       "1                        1           1.0  \n",
       "2                        1           1.0  \n",
       "3                        1           1.0  \n",
       "4                        0           0.0  "
      ]
     },
     "execution_count": 17,
     "metadata": {},
     "output_type": "execute_result"
    }
   ],
   "source": [
    "df.head()"
   ]
  },
  {
   "cell_type": "code",
   "execution_count": 19,
   "metadata": {},
   "outputs": [
    {
     "data": {
      "text/plain": [
       "0.0    10820\n",
       "1.0     3972\n",
       "Name: pseudo_group, dtype: int64"
      ]
     },
     "execution_count": 19,
     "metadata": {},
     "output_type": "execute_result"
    }
   ],
   "source": [
    "df.pseudo_group.value_counts()\n",
    "    "
   ]
  },
  {
   "cell_type": "code",
   "execution_count": null,
   "metadata": {},
   "outputs": [],
   "source": []
  }
 ],
 "metadata": {
  "kernelspec": {
   "display_name": "Python 3",
   "language": "python",
   "name": "python3"
  },
  "language_info": {
   "codemirror_mode": {
    "name": "ipython",
    "version": 3
   },
   "file_extension": ".py",
   "mimetype": "text/x-python",
   "name": "python",
   "nbconvert_exporter": "python",
   "pygments_lexer": "ipython3",
   "version": "3.6.8"
  }
 },
 "nbformat": 4,
 "nbformat_minor": 2
}
