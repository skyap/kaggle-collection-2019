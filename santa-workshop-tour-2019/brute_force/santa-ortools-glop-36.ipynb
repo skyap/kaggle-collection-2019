{
 "cells": [
  {
   "cell_type": "code",
   "execution_count": 1,
   "metadata": {},
   "outputs": [],
   "source": [
    "DIFF_LIMIT = 36"
   ]
  },
  {
   "cell_type": "code",
   "execution_count": 2,
   "metadata": {
    "_cell_guid": "79c7e3d0-c299-4dcb-8224-4455121ee9b0",
    "_uuid": "d629ff2d2480ee46fbb7e2d37f6b5fab8052498a"
   },
   "outputs": [],
   "source": [
    "import os\n",
    "import pandas as pd\n",
    "import numpy as np\n",
    "from numba import njit\n",
    "import pickle\n",
    "from itertools import product"
   ]
  },
  {
   "cell_type": "code",
   "execution_count": 3,
   "metadata": {},
   "outputs": [],
   "source": [
    "data = pd.read_csv(\"../input/santa-workshop-tour-2019/family_data.csv\")\n"
   ]
  },
  {
   "cell_type": "code",
   "execution_count": 4,
   "metadata": {},
   "outputs": [
    {
     "data": {
      "text/html": [
       "<div>\n",
       "<style scoped>\n",
       "    .dataframe tbody tr th:only-of-type {\n",
       "        vertical-align: middle;\n",
       "    }\n",
       "\n",
       "    .dataframe tbody tr th {\n",
       "        vertical-align: top;\n",
       "    }\n",
       "\n",
       "    .dataframe thead th {\n",
       "        text-align: right;\n",
       "    }\n",
       "</style>\n",
       "<table border=\"1\" class=\"dataframe\">\n",
       "  <thead>\n",
       "    <tr style=\"text-align: right;\">\n",
       "      <th></th>\n",
       "      <th>family_id</th>\n",
       "      <th>choice_0</th>\n",
       "      <th>choice_1</th>\n",
       "      <th>choice_2</th>\n",
       "      <th>choice_3</th>\n",
       "      <th>choice_4</th>\n",
       "      <th>choice_5</th>\n",
       "      <th>choice_6</th>\n",
       "      <th>choice_7</th>\n",
       "      <th>choice_8</th>\n",
       "      <th>choice_9</th>\n",
       "      <th>n_people</th>\n",
       "    </tr>\n",
       "  </thead>\n",
       "  <tbody>\n",
       "    <tr>\n",
       "      <th>0</th>\n",
       "      <td>0</td>\n",
       "      <td>52</td>\n",
       "      <td>38</td>\n",
       "      <td>12</td>\n",
       "      <td>82</td>\n",
       "      <td>33</td>\n",
       "      <td>75</td>\n",
       "      <td>64</td>\n",
       "      <td>76</td>\n",
       "      <td>10</td>\n",
       "      <td>28</td>\n",
       "      <td>4</td>\n",
       "    </tr>\n",
       "    <tr>\n",
       "      <th>1</th>\n",
       "      <td>1</td>\n",
       "      <td>26</td>\n",
       "      <td>4</td>\n",
       "      <td>82</td>\n",
       "      <td>5</td>\n",
       "      <td>11</td>\n",
       "      <td>47</td>\n",
       "      <td>38</td>\n",
       "      <td>6</td>\n",
       "      <td>66</td>\n",
       "      <td>61</td>\n",
       "      <td>4</td>\n",
       "    </tr>\n",
       "    <tr>\n",
       "      <th>2</th>\n",
       "      <td>2</td>\n",
       "      <td>100</td>\n",
       "      <td>54</td>\n",
       "      <td>25</td>\n",
       "      <td>12</td>\n",
       "      <td>27</td>\n",
       "      <td>82</td>\n",
       "      <td>10</td>\n",
       "      <td>89</td>\n",
       "      <td>80</td>\n",
       "      <td>33</td>\n",
       "      <td>3</td>\n",
       "    </tr>\n",
       "    <tr>\n",
       "      <th>3</th>\n",
       "      <td>3</td>\n",
       "      <td>2</td>\n",
       "      <td>95</td>\n",
       "      <td>1</td>\n",
       "      <td>96</td>\n",
       "      <td>32</td>\n",
       "      <td>6</td>\n",
       "      <td>40</td>\n",
       "      <td>31</td>\n",
       "      <td>9</td>\n",
       "      <td>59</td>\n",
       "      <td>2</td>\n",
       "    </tr>\n",
       "    <tr>\n",
       "      <th>4</th>\n",
       "      <td>4</td>\n",
       "      <td>53</td>\n",
       "      <td>1</td>\n",
       "      <td>47</td>\n",
       "      <td>93</td>\n",
       "      <td>26</td>\n",
       "      <td>3</td>\n",
       "      <td>46</td>\n",
       "      <td>16</td>\n",
       "      <td>42</td>\n",
       "      <td>39</td>\n",
       "      <td>4</td>\n",
       "    </tr>\n",
       "  </tbody>\n",
       "</table>\n",
       "</div>"
      ],
      "text/plain": [
       "   family_id  choice_0  choice_1  choice_2  choice_3  choice_4  choice_5  \\\n",
       "0          0        52        38        12        82        33        75   \n",
       "1          1        26         4        82         5        11        47   \n",
       "2          2       100        54        25        12        27        82   \n",
       "3          3         2        95         1        96        32         6   \n",
       "4          4        53         1        47        93        26         3   \n",
       "\n",
       "   choice_6  choice_7  choice_8  choice_9  n_people  \n",
       "0        64        76        10        28         4  \n",
       "1        38         6        66        61         4  \n",
       "2        10        89        80        33         3  \n",
       "3        40        31         9        59         2  \n",
       "4        46        16        42        39         4  "
      ]
     },
     "execution_count": 4,
     "metadata": {},
     "output_type": "execute_result"
    }
   ],
   "source": [
    "data.head()"
   ]
  },
  {
   "cell_type": "code",
   "execution_count": 5,
   "metadata": {
    "_kg_hide-input": true,
    "_kg_hide-output": true
   },
   "outputs": [],
   "source": [
    "def get_penalty(n, choice):\n",
    "    penalty = None\n",
    "    if choice == 0:\n",
    "        penalty = 0\n",
    "    elif choice == 1:\n",
    "        penalty = 50\n",
    "    elif choice == 2:\n",
    "        penalty = 50 + 9 * n\n",
    "    elif choice == 3:\n",
    "        penalty = 100 + 9 * n\n",
    "    elif choice == 4:\n",
    "        penalty = 200 + 9 * n\n",
    "    elif choice == 5:\n",
    "        penalty = 200 + 18 * n\n",
    "    elif choice == 6:\n",
    "        penalty = 300 + 18 * n\n",
    "    elif choice == 7:\n",
    "        penalty = 300 + 36 * n\n",
    "    elif choice == 8:\n",
    "        penalty = 400 + 36 * n\n",
    "    elif choice == 9:\n",
    "        penalty = 500 + 36 * n + 199 * n\n",
    "    else:\n",
    "        penalty = 500 + 36 * n + 398 * n\n",
    "    return penalty\n",
    "\n",
    "\n",
    "def GetPreferenceCostMatrix(data):\n",
    "    cost_matrix = np.zeros((N_FAMILIES, N_DAYS), dtype=np.int64)\n",
    "    for i in range(N_FAMILIES):\n",
    "        desired = data.values[i, 1:-1]\n",
    "        cost_matrix[i, :] = get_penalty(FAMILY_SIZE[i], 10)\n",
    "        for j, day in enumerate(desired):\n",
    "            cost_matrix[i, day-1] = get_penalty(FAMILY_SIZE[i], j)\n",
    "    return cost_matrix\n",
    "\n",
    "\n",
    "def GetAccountingCostMatrix():\n",
    "    ac = np.zeros((1000, 1000), dtype=np.float64)\n",
    "    for n in range(ac.shape[0]):\n",
    "        for n_p1 in range(ac.shape[1]):\n",
    "            diff = abs(n - n_p1)\n",
    "            ac[n, n_p1] = max(0, (n - 125) / 400 * n**(0.5 + diff / 50.0))\n",
    "    return ac\n",
    "@njit(fastmath=True)\n",
    "def pcost(prediction):\n",
    "    daily_occupancy = np.zeros(N_DAYS+1, dtype=np.int64)\n",
    "    penalty = 0\n",
    "    for (i, p) in enumerate(prediction):\n",
    "        n = FAMILY_SIZE[i]\n",
    "        penalty += PCOSTM[i, p]\n",
    "        daily_occupancy[p] += n\n",
    "    return penalty, daily_occupancy\n",
    "\n",
    "\n",
    "# accounting cost\n",
    "@njit(fastmath=True)\n",
    "def acost(daily_occupancy):\n",
    "    accounting_cost = 0\n",
    "    n_out_of_range = 0\n",
    "    daily_occupancy[-1] = daily_occupancy[-2]\n",
    "    for day in range(N_DAYS):\n",
    "        n_p1 = daily_occupancy[day + 1]\n",
    "        n    = daily_occupancy[day]\n",
    "        n_out_of_range += (n > MAX_OCCUPANCY) or (n < MIN_OCCUPANCY)\n",
    "        accounting_cost += ACOSTM[n, n_p1]\n",
    "    return accounting_cost, n_out_of_range\n",
    "\n",
    "\n",
    "@njit(fastmath=True)\n",
    "def acostd(daily_occupancy):\n",
    "    accounting_cost = np.zeros(N_DAYS, dtype=np.float64)\n",
    "    n_out_of_range = 0\n",
    "    daily_occupancy[-1] = daily_occupancy[-2]\n",
    "    for day in range(N_DAYS):\n",
    "        n_p1 = daily_occupancy[day + 1]\n",
    "        n    = daily_occupancy[day]\n",
    "        n_out_of_range += (n > MAX_OCCUPANCY) or (n < MIN_OCCUPANCY)\n",
    "        accounting_cost[day] = ACOSTM[n, n_p1]\n",
    "    return accounting_cost, n_out_of_range\n",
    "\n",
    "\n",
    "@njit(fastmath=True)\n",
    "def pcostd(prediction):\n",
    "    daily_occupancy = np.zeros(N_DAYS+1, dtype=np.int64)\n",
    "    penalty = np.empty_like(prediction)\n",
    "    for (i, p) in enumerate(prediction):\n",
    "        n = FAMILY_SIZE[i]\n",
    "        penalty[i] = PCOSTM[i, p]\n",
    "        daily_occupancy[p] += n\n",
    "    return penalty, daily_occupancy\n",
    "\n",
    "\n",
    "@njit(fastmath=True)\n",
    "def cost_stats(prediction):\n",
    "    penalty, daily_occupancy = pcostd(prediction)\n",
    "    accounting_cost, n_out_of_range = acostd(daily_occupancy)\n",
    "    return penalty, accounting_cost, n_out_of_range, daily_occupancy[:-1]\n",
    "\n",
    "\n",
    "@njit(fastmath=True)\n",
    "def cost_function(prediction):\n",
    "    penalty, daily_occupancy = pcost(prediction)\n",
    "    accounting_cost, n_out_of_range = acost(daily_occupancy)\n",
    "    return penalty + accounting_cost + n_out_of_range*100000000"
   ]
  },
  {
   "cell_type": "code",
   "execution_count": 6,
   "metadata": {},
   "outputs": [],
   "source": [
    "@njit(fastmath=True)\n",
    "def cost_function_(prediction):\n",
    "    penalty, daily_occupancy = pcost(prediction)\n",
    "    accounting_cost, n_out_of_range = acost(daily_occupancy)\n",
    "    return penalty + accounting_cost, n_out_of_range\n",
    "\n",
    "\n",
    "@njit(fastmath=True)\n",
    "def findAnotherDay4Fam(prediction, fam, occupancy):\n",
    "    old_day = prediction[fam]\n",
    "    best_cost = np.inf\n",
    "    best_day = fam\n",
    "    n = FAMILY_SIZE[fam]\n",
    "    \n",
    "    daysrange = list(range(0,old_day))+list(range(old_day+1,N_DAYS))\n",
    "    for day in daysrange:\n",
    "        prediction[fam] = day\n",
    "        new_cost, _ = cost_function_(prediction)\n",
    "        \n",
    "        if (new_cost<best_cost) and (occupancy[day]+n<=MAX_OCCUPANCY):\n",
    "            best_cost = new_cost\n",
    "            best_day = day\n",
    "            \n",
    "    prediction[fam] = old_day\n",
    "    return best_day, best_cost\n",
    "\n",
    "\n",
    "@njit(fastmath=True)\n",
    "def bestFamAdd(prediction, day, occupancy):\n",
    "    best_cost = np.inf\n",
    "    best_fam = prediction[day]\n",
    "    for fam in np.where(prediction!=day)[0]:\n",
    "        old_day = prediction[fam]\n",
    "        prediction[fam] = day\n",
    "        new_cost, _ = cost_function_(prediction)\n",
    "        prediction[fam] = old_day\n",
    "        n = FAMILY_SIZE[fam]\n",
    "        if (new_cost<best_cost) and (occupancy[old_day]-n>=MIN_OCCUPANCY):\n",
    "            best_cost = new_cost\n",
    "            best_fam = fam   \n",
    "    return best_fam\n",
    "\n",
    "\n",
    "@njit(fastmath=True)\n",
    "def bestFamRemoval(prediction, day, occupancy):\n",
    "    best_cost = np.inf\n",
    "    best_day = day\n",
    "    \n",
    "    for fam in np.where(prediction==day)[0]:\n",
    "        new_day, new_cost = findAnotherDay4Fam(prediction, fam, occupancy)\n",
    "        if new_cost<best_cost:\n",
    "            best_cost = new_cost\n",
    "            best_fam = fam\n",
    "            best_day = new_day\n",
    "            \n",
    "    return best_fam, best_day\n",
    "\n",
    "\n",
    "@njit(fastmath=True)\n",
    "def fixMaxOccupancy(prediction):\n",
    "    penalty, accounting_cost, n_out_of_range, occupancy = cost_stats(prediction)\n",
    "\n",
    "    for day in np.where(occupancy>MAX_OCCUPANCY)[0]:\n",
    "        while occupancy[day]>MAX_OCCUPANCY:\n",
    "            fam, new_day = bestFamRemoval(prediction, day, occupancy)\n",
    "            prediction[fam] = new_day\n",
    "            penalty, accounting_cost, n_out_of_range, occupancy = cost_stats(prediction)\n",
    "            \n",
    "            \n",
    "@njit(fastmath=True)\n",
    "def fixMinOccupancy(prediction):\n",
    "    penalty, accounting_cost, n_out_of_range, occupancy = cost_stats(prediction)\n",
    "\n",
    "    for day in np.where(occupancy<MIN_OCCUPANCY)[0]:\n",
    "        while occupancy[day]<MIN_OCCUPANCY:\n",
    "            fam = bestFamAdd(prediction, day, occupancy)\n",
    "            prediction[fam] = day\n",
    "            penalty, accounting_cost, n_out_of_range, occupancy = cost_stats(prediction)"
   ]
  },
  {
   "cell_type": "code",
   "execution_count": 7,
   "metadata": {},
   "outputs": [],
   "source": [
    "# swappers\n",
    "\n",
    "def findBetterDay4Family(pred):\n",
    "    fobs = np.argsort(FAMILY_SIZE)\n",
    "    score = cost_function(pred)\n",
    "    original_score = np.inf\n",
    "    while original_score>score:\n",
    "        original_score = score\n",
    "        for family_id in fobs:\n",
    "            for pick in range(10):\n",
    "                day = DESIRED[family_id, pick]\n",
    "                oldvalue = pred[family_id]\n",
    "                pred[family_id] = day\n",
    "                new_score = cost_function(pred)\n",
    "                if new_score<score:\n",
    "                    score = new_score\n",
    "                else:\n",
    "                    pred[family_id] = oldvalue\n",
    "\n",
    "        print(score, end='\\r')\n",
    "    print(score)\n",
    "    \n",
    "\n",
    "def stochastic_product_search(top_k, fam_size, original, \n",
    "                              verbose=1000, verbose2=50000,\n",
    "                              n_iter=500, random_state=2019):\n",
    "    \"\"\"\n",
    "    original (np.array): The original day assignments.\n",
    "    \n",
    "    At every iterations, randomly sample fam_size families. Then, given their top_k\n",
    "    choices, compute the Cartesian product of the families' choices, and compute the\n",
    "    score for each of those top_k^fam_size products.\n",
    "    \"\"\"\n",
    "    \n",
    "    best = original.copy()\n",
    "    best_score = cost_function(best)\n",
    "    \n",
    "    np.random.seed(random_state)\n",
    "\n",
    "    for i in range(n_iter):\n",
    "        fam_indices = np.random.choice(range(DESIRED.shape[0]), size=fam_size)\n",
    "        changes = np.array(list(product(*DESIRED[fam_indices, :top_k].tolist())))\n",
    "\n",
    "        for change in changes:\n",
    "            new = best.copy()\n",
    "            new[fam_indices] = change\n",
    "\n",
    "            new_score = cost_function(new)\n",
    "\n",
    "            if new_score < best_score:\n",
    "                best_score = new_score\n",
    "                best = new\n",
    "                \n",
    "        if verbose and i % verbose == 0:\n",
    "            print(f\"Iteration #{i}: Best score is {best_score:.2f}      \", end='\\r')\n",
    "            \n",
    "        if verbose2 and i % verbose2 == 0:\n",
    "            print(f\"Iteration #{i}: Best score is {best_score:.2f}      \")\n",
    "    \n",
    "    print(f\"Final best score is {best_score:.2f}\")\n",
    "    return best"
   ]
  },
  {
   "cell_type": "markdown",
   "metadata": {},
   "source": [
    "# Solver"
   ]
  },
  {
   "cell_type": "code",
   "execution_count": 8,
   "metadata": {},
   "outputs": [],
   "source": [
    "N_DAYS = 100\n",
    "N_FAMILIES = 5000\n",
    "MAX_OCCUPANCY = 300\n",
    "MIN_OCCUPANCY = 125\n",
    "FAMILY_SIZE = data.n_people.values\n",
    "DESIRED     = data.values[:,1:-1] - 1\n",
    "PCOSTM = GetPreferenceCostMatrix(data)\n",
    "ACOSTM = GetAccountingCostMatrix()"
   ]
  },
  {
   "cell_type": "code",
   "execution_count": 9,
   "metadata": {},
   "outputs": [
    {
     "name": "stdout",
     "output_type": "stream",
     "text": [
      "CPU times: user 56 s, sys: 400 ms, total: 56.4 s\n",
      "Wall time: 56.6 s\n"
     ]
    }
   ],
   "source": [
    "%%time\n",
    "from ortools.linear_solver import pywraplp\n",
    "# BOP_INTEGER_PROGRAMMING - Not Good\n",
    "# CBC_MIXED_INTEGER_PROGRAMMING -Done\n",
    "# CLP_LINEAR_PROGRAMMING  - Not constraint\n",
    "# GLOP_LINEAR_PROGRAMMING - Not constraint\n",
    "solver = pywraplp.Solver('SolveAssignmentProblemMIP',pywraplp.Solver.GLOP_LINEAR_PROGRAMMING)\n",
    "\n",
    "num_workers = len(PCOSTM)\n",
    "num_tasks = len(PCOSTM[0])\n",
    "\n",
    "x = {}\n",
    "for i in range(num_workers):\n",
    "    for j in range(num_tasks):\n",
    "        x[i, j] = solver.BoolVar('x[%i,%i]' % (i, j))\n",
    "\n",
    "for j in range(num_tasks-1):\n",
    "    daily_o1 = solver.Sum([x[i, j]*FAMILY_SIZE[i] for i in range(num_workers)])\n",
    "    daily_o2 = solver.Sum([x[i, j+1]*FAMILY_SIZE[i] for i in range(num_workers)])\n",
    "    solver.Add((daily_o1-daily_o2)<=DIFF_LIMIT)\n",
    "    solver.Add((daily_o2-daily_o1)<=DIFF_LIMIT)\n",
    "        \n",
    "# every one take one day\n",
    "for i in range(num_workers):\n",
    "    solver.Add(solver.Sum([x[i, j] for j in range(num_tasks)]) == 1)\n",
    "\n",
    "# every day can be taken less than 300 or more than 125\n",
    "for j in range(num_tasks):\n",
    "    daily_o = solver.Sum([x[i, j]*FAMILY_SIZE[i] for i in range(num_workers)])\n",
    "    solver.Add(daily_o<=300)\n",
    "    solver.Add(daily_o>=125)"
   ]
  },
  {
   "cell_type": "code",
   "execution_count": 10,
   "metadata": {},
   "outputs": [
    {
     "name": "stdout",
     "output_type": "stream",
     "text": [
      "0\n",
      "CPU times: user 3min 55s, sys: 1.6 s, total: 3min 57s\n",
      "Wall time: 3min 55s\n"
     ]
    }
   ],
   "source": [
    "%%time\n",
    "# solver.set_time_limit(1000*400)\n",
    "solver.Minimize(solver.Sum([PCOSTM[i][j] * x[i,j] for i in range(num_workers) for j in range(num_tasks)]))\n",
    "sol = solver.Solve()\n",
    "print(sol)"
   ]
  },
  {
   "cell_type": "code",
   "execution_count": 11,
   "metadata": {},
   "outputs": [
    {
     "name": "stdout",
     "output_type": "stream",
     "text": [
      "Total cost = 67,513\n",
      "\n"
     ]
    }
   ],
   "source": [
    "print(f'Total cost = {solver.Objective().Value():,.0f}')\n",
    "print()\n",
    "results = []\n",
    "for i in range(num_workers):\n",
    "    for j in range(num_tasks):\n",
    "        if x[i, j].solution_value() > 0:\n",
    "#             print('Worker %d assigned to task %d.  Cost = %d' % (\n",
    "#                   i,\n",
    "#                   j,\n",
    "#                   cost_matrix[i][j]))\n",
    "            results.append((i,j,PCOSTM[i,j]))\n",
    "         \n",
    "\n",
    "df = pd.DataFrame(results, columns=['family_id', 'day', 'cost'])\n",
    "    \n",
    "if len(df)!=N_FAMILIES:\n",
    "    df = df.sort_values(['family_id', 'cost']).drop_duplicates('family_id', keep='last') "
   ]
  },
  {
   "cell_type": "code",
   "execution_count": 12,
   "metadata": {},
   "outputs": [
    {
     "name": "stdout",
     "output_type": "stream",
     "text": [
      "70431 11471.216106798205 1 125 304\n"
     ]
    }
   ],
   "source": [
    "prediction = df.day.values\n",
    "penalty, accounting_cost, n_out_of_range, occupancy = cost_stats(prediction)\n",
    "print(penalty.sum(), accounting_cost.sum(), n_out_of_range, occupancy.min(), occupancy.max())"
   ]
  },
  {
   "cell_type": "code",
   "execution_count": 13,
   "metadata": {},
   "outputs": [
    {
     "name": "stdout",
     "output_type": "stream",
     "text": [
      "70594 10404.100156158976 0 125 300\n"
     ]
    }
   ],
   "source": [
    "fixMinOccupancy(prediction)\n",
    "fixMaxOccupancy(prediction)\n",
    "\n",
    "penalty, accounting_cost, n_out_of_range, occupancy = cost_stats(prediction)\n",
    "print(penalty.sum(), accounting_cost.sum(), n_out_of_range, occupancy.min(), occupancy.max())"
   ]
  },
  {
   "cell_type": "code",
   "execution_count": 14,
   "metadata": {},
   "outputs": [],
   "source": [
    "# findBetterDay4Family(data.iloc[:,1].values)"
   ]
  },
  {
   "cell_type": "code",
   "execution_count": 15,
   "metadata": {},
   "outputs": [
    {
     "name": "stdout",
     "output_type": "stream",
     "text": [
      "73495.57597740216\n"
     ]
    }
   ],
   "source": [
    "findBetterDay4Family(prediction)"
   ]
  },
  {
   "cell_type": "code",
   "execution_count": 16,
   "metadata": {},
   "outputs": [
    {
     "name": "stdout",
     "output_type": "stream",
     "text": [
      "Iteration #0: Best score is 73495.58      \n",
      "Iteration #50000: Best score is 73334.16      \n",
      "Iteration #100000: Best score is 73230.81      \n",
      "Iteration #150000: Best score is 72978.67      \n",
      "Iteration #200000: Best score is 72556.49      \n",
      "Iteration #250000: Best score is 72475.48      \n",
      "Iteration #300000: Best score is 72344.49      \n",
      "Final best score is 72333.24\n"
     ]
    }
   ],
   "source": [
    "final = stochastic_product_search(\n",
    "        top_k=2,\n",
    "        fam_size=8, \n",
    "        original=prediction, \n",
    "        n_iter=350000,\n",
    "        verbose=1000,\n",
    "        verbose2=50000 \n",
    "        )"
   ]
  },
  {
   "cell_type": "code",
   "execution_count": 17,
   "metadata": {},
   "outputs": [],
   "source": [
    "sub = pd.DataFrame(final+1).rename(columns={0:'assigned_day'})\n",
    "sub['family_id'] = range(N_FAMILIES)\n",
    "sub[['family_id', 'assigned_day']].to_csv('submission.csv', index=False)"
   ]
  },
  {
   "cell_type": "code",
   "execution_count": null,
   "metadata": {},
   "outputs": [],
   "source": []
  },
  {
   "cell_type": "code",
   "execution_count": null,
   "metadata": {},
   "outputs": [],
   "source": []
  }
 ],
 "metadata": {
  "kernelspec": {
   "display_name": "Python 3",
   "language": "python",
   "name": "python3"
  },
  "language_info": {
   "codemirror_mode": {
    "name": "ipython",
    "version": 3
   },
   "file_extension": ".py",
   "mimetype": "text/x-python",
   "name": "python",
   "nbconvert_exporter": "python",
   "pygments_lexer": "ipython3",
   "version": "3.6.6"
  }
 },
 "nbformat": 4,
 "nbformat_minor": 1
}
