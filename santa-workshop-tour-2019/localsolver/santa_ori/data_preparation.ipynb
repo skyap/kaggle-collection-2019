{
 "cells": [
  {
   "cell_type": "code",
   "execution_count": 16,
   "metadata": {},
   "outputs": [],
   "source": [
    "import numpy as np\n",
    "import pandas as pd\n",
    "from numba import njit\n",
    "from tqdm import tqdm_notebook"
   ]
  },
  {
   "cell_type": "code",
   "execution_count": 2,
   "metadata": {},
   "outputs": [],
   "source": [
    "data = pd.read_csv(\"../family_data.csv\",index_col = 'family_id')\n",
    "family_size = data.n_people.values.astype(np.int8)\n",
    "penalties = np.asarray([\n",
    "    [\n",
    "        0,\n",
    "        50,\n",
    "        50 + 9 * n,\n",
    "        100 + 9 * n,\n",
    "        200 + 9 * n,\n",
    "        200 + 18 * n,\n",
    "        300 + 18 * n,\n",
    "        300 + 36 * n,\n",
    "        400 + 36 * n,\n",
    "        500 + 36 * n + 199 * n,\n",
    "        500 + 36 * n + 398 * n\n",
    "    ] for n in range(family_size.max() + 1)\n",
    "])\n",
    "\n",
    "family_cost_matrix = np.concatenate(data.n_people.apply(lambda n: np.repeat(penalties[n, 10], 100).reshape(1, 100)))\n",
    "\n",
    "for fam in data.index:\n",
    "    for choice_order, day in enumerate(data.loc[fam].drop(\"n_people\")):\n",
    "        family_cost_matrix[fam, day - 1] = penalties[data.loc[fam, \"n_people\"], choice_order]\n",
    "        \n",
    "accounting_cost_matrix = np.zeros((500, 500))\n",
    "for n in range(accounting_cost_matrix.shape[0]):\n",
    "    for diff in range(accounting_cost_matrix.shape[1]):\n",
    "        accounting_cost_matrix[n, diff] = max(0, (n - 125.0) / 400.0 * n**(0.5 + diff / 50.0))\n",
    "        \n",
    "def cost_function(prediction, family_size=family_size, family_cost_matrix=family_cost_matrix, accounting_cost_matrix=accounting_cost_matrix):\n",
    "    N_DAYS = family_cost_matrix.shape[1]\n",
    "    MAX_OCCUPANCY = 300\n",
    "    MIN_OCCUPANCY = 125\n",
    "    penalty = 0\n",
    "    daily_occupancy = np.zeros(N_DAYS + 1, dtype=np.int16)\n",
    "    for i, (pred, n) in enumerate(zip(prediction, family_size)):\n",
    "        daily_occupancy[pred - 1] += n\n",
    "        penalty += family_cost_matrix[i, pred - 1]\n",
    "\n",
    "    accounting_cost = 0\n",
    "    n_low = 0\n",
    "    n_high = 0\n",
    "    daily_occupancy[-1] = daily_occupancy[-2]\n",
    "    for day in range(N_DAYS):\n",
    "        n_next = daily_occupancy[day + 1]\n",
    "        n = daily_occupancy[day]\n",
    "        n_high += (n > MAX_OCCUPANCY)\n",
    "        n_low += (n < MIN_OCCUPANCY)\n",
    "        diff = abs(n - n_next)\n",
    "        accounting_cost += accounting_cost_matrix[n, diff]\n",
    "\n",
    "    return np.asarray([penalty, accounting_cost, n_low, n_high])\n",
    "\n",
    "\n",
    "def score(prediction):\n",
    "    fc, ac, l, h = cost_function(prediction, family_size, family_cost_matrix, accounting_cost_matrix)\n",
    "    return (fc + ac) + (l + h) * 1000000"
   ]
  },
  {
   "cell_type": "markdown",
   "metadata": {},
   "source": [
    "# input files"
   ]
  },
  {
   "cell_type": "code",
   "execution_count": 7,
   "metadata": {},
   "outputs": [],
   "source": [
    "with open('santa_size.in',\"w\") as f:\n",
    "    f.write(\" \".join(map(str,family_size)))"
   ]
  },
  {
   "cell_type": "code",
   "execution_count": 13,
   "metadata": {},
   "outputs": [],
   "source": [
    "with open('santa_cost.in',\"w\") as f:\n",
    "    f.write(\" \".join(map(str,family_cost_matrix.reshape(5000*100))))"
   ]
  },
  {
   "cell_type": "code",
   "execution_count": 21,
   "metadata": {},
   "outputs": [],
   "source": [
    "with open('santa_acc_cost.in',\"w\") as f:\n",
    "    f.write(\" \".join(map(str,accounting_cost_matrix.reshape(500*500))))"
   ]
  },
  {
   "cell_type": "code",
   "execution_count": 10,
   "metadata": {},
   "outputs": [],
   "source": [
    "with open('santa.out',\"w\") as f:\n",
    "    f.write(\" \".join(map(str,results)))"
   ]
  },
  {
   "cell_type": "markdown",
   "metadata": {},
   "source": [
    "# output files"
   ]
  },
  {
   "cell_type": "code",
   "execution_count": 3,
   "metadata": {},
   "outputs": [
    {
     "ename": "NameError",
     "evalue": "name 'results' is not defined",
     "output_type": "error",
     "traceback": [
      "\u001b[1;31m---------------------------------------------------------------------------\u001b[0m",
      "\u001b[1;31mNameError\u001b[0m                                 Traceback (most recent call last)",
      "\u001b[1;32m<ipython-input-3-0705b04d7b31>\u001b[0m in \u001b[0;36m<module>\u001b[1;34m\u001b[0m\n\u001b[0;32m      1\u001b[0m \u001b[0mdaily_occupancy\u001b[0m \u001b[1;33m=\u001b[0m \u001b[0mnp\u001b[0m\u001b[1;33m.\u001b[0m\u001b[0mzeros\u001b[0m\u001b[1;33m(\u001b[0m\u001b[1;36m101\u001b[0m\u001b[1;33m,\u001b[0m \u001b[0mdtype\u001b[0m\u001b[1;33m=\u001b[0m\u001b[0mnp\u001b[0m\u001b[1;33m.\u001b[0m\u001b[0mint16\u001b[0m\u001b[1;33m)\u001b[0m\u001b[1;33m\u001b[0m\u001b[1;33m\u001b[0m\u001b[0m\n\u001b[1;32m----> 2\u001b[1;33m \u001b[1;32mfor\u001b[0m \u001b[0mi\u001b[0m\u001b[1;33m,\u001b[0m\u001b[0mr\u001b[0m \u001b[1;32min\u001b[0m \u001b[0menumerate\u001b[0m\u001b[1;33m(\u001b[0m\u001b[0mresults\u001b[0m\u001b[1;33m)\u001b[0m\u001b[1;33m:\u001b[0m\u001b[1;33m\u001b[0m\u001b[1;33m\u001b[0m\u001b[0m\n\u001b[0m\u001b[0;32m      3\u001b[0m     \u001b[0mdaily_occupancy\u001b[0m\u001b[1;33m[\u001b[0m\u001b[0mr\u001b[0m\u001b[1;33m]\u001b[0m\u001b[1;33m+=\u001b[0m\u001b[0mfamily_size\u001b[0m\u001b[1;33m[\u001b[0m\u001b[0mi\u001b[0m\u001b[1;33m]\u001b[0m\u001b[1;33m\u001b[0m\u001b[1;33m\u001b[0m\u001b[0m\n\u001b[0;32m      4\u001b[0m \u001b[0mprint\u001b[0m\u001b[1;33m(\u001b[0m\u001b[0mdaily_occupancy\u001b[0m\u001b[1;33m)\u001b[0m\u001b[1;33m\u001b[0m\u001b[1;33m\u001b[0m\u001b[0m\n",
      "\u001b[1;31mNameError\u001b[0m: name 'results' is not defined"
     ]
    }
   ],
   "source": []
  },
  {
   "cell_type": "code",
   "execution_count": null,
   "metadata": {},
   "outputs": [],
   "source": []
  },
  {
   "cell_type": "code",
   "execution_count": 4,
   "metadata": {},
   "outputs": [],
   "source": [
    "def get_penalty(n, choice):\n",
    "    penalty = None\n",
    "    if choice == 0:\n",
    "        penalty = 0\n",
    "    elif choice == 1:\n",
    "        penalty = 50\n",
    "    elif choice == 2:\n",
    "        penalty = 50 + 9 * n\n",
    "    elif choice == 3:\n",
    "        penalty = 100 + 9 * n\n",
    "    elif choice == 4:\n",
    "        penalty = 200 + 9 * n\n",
    "    elif choice == 5:\n",
    "        penalty = 200 + 18 * n\n",
    "    elif choice == 6:\n",
    "        penalty = 300 + 18 * n\n",
    "    elif choice == 7:\n",
    "        penalty = 300 + 36 * n\n",
    "    elif choice == 8:\n",
    "        penalty = 400 + 36 * n\n",
    "    elif choice == 9:\n",
    "        penalty = 500 + 36 * n + 199 * n\n",
    "    else:\n",
    "        penalty = 500 + 36 * n + 398 * n\n",
    "    return penalty\n",
    "\n",
    "\n",
    "def GetPreferenceCostMatrix(data):\n",
    "    cost_matrix = np.zeros((N_FAMILIES, N_DAYS), dtype=np.int64)\n",
    "    for i in range(N_FAMILIES):\n",
    "        desired = data.values[i, :-1]\n",
    "        cost_matrix[i, :] = get_penalty(FAMILY_SIZE[i], 10)\n",
    "        for j, day in enumerate(desired):\n",
    "            cost_matrix[i, day-1] = get_penalty(FAMILY_SIZE[i], j)\n",
    "    return cost_matrix\n",
    "\n",
    "\n",
    "def GetAccountingCostMatrix():\n",
    "    ac = np.zeros((1000, 1000), dtype=np.float64)\n",
    "    for n in range(ac.shape[0]):\n",
    "        for n_p1 in range(ac.shape[1]):\n",
    "            diff = abs(n - n_p1)\n",
    "            ac[n, n_p1] = max(0, (n - 125) / 400 * n**(0.5 + diff / 50.0))\n",
    "    return ac"
   ]
  },
  {
   "cell_type": "code",
   "execution_count": 5,
   "metadata": {},
   "outputs": [],
   "source": [
    "# cost_function, etc.\n",
    "\n",
    "# preference cost\n",
    "@njit(fastmath=True)\n",
    "def pcost(prediction):\n",
    "    daily_occupancy = np.zeros(N_DAYS+1, dtype=np.int64)\n",
    "    penalty = 0\n",
    "    for (i, p) in enumerate(prediction):\n",
    "        n = FAMILY_SIZE[i]\n",
    "        penalty += PCOSTM[i, p]\n",
    "        daily_occupancy[p] += n\n",
    "    return penalty, daily_occupancy\n",
    "\n",
    "\n",
    "# accounting cost\n",
    "@njit(fastmath=True)\n",
    "def acost(daily_occupancy):\n",
    "    accounting_cost = 0\n",
    "    n_out_of_range = 0\n",
    "    daily_occupancy[-1] = daily_occupancy[-2]\n",
    "    for day in range(N_DAYS):\n",
    "        n_p1 = daily_occupancy[day + 1]\n",
    "        n    = daily_occupancy[day]\n",
    "        n_out_of_range += (n > MAX_OCCUPANCY) or (n < MIN_OCCUPANCY)\n",
    "        accounting_cost += ACOSTM[n, n_p1]\n",
    "    return accounting_cost, n_out_of_range\n",
    "\n",
    "@njit(fastmath=True)\n",
    "def acostd(daily_occupancy):\n",
    "    accounting_cost = np.zeros(N_DAYS, dtype=np.float64)\n",
    "    n_out_of_range = 0\n",
    "    daily_occupancy[-1] = daily_occupancy[-2]\n",
    "    for day in range(N_DAYS):\n",
    "        n_p1 = daily_occupancy[day + 1]\n",
    "        n    = daily_occupancy[day]\n",
    "        n_out_of_range += (n > MAX_OCCUPANCY) or (n < MIN_OCCUPANCY)\n",
    "        accounting_cost[day] = ACOSTM[n, n_p1]\n",
    "    return accounting_cost, n_out_of_range\n",
    "\n",
    "@njit(fastmath=True)\n",
    "def pcostd(prediction):\n",
    "    daily_occupancy = np.zeros(N_DAYS+1, dtype=np.int64)\n",
    "    penalty = np.empty_like(prediction)\n",
    "    for (i, p) in enumerate(prediction):\n",
    "        n = FAMILY_SIZE[i]\n",
    "        penalty[i] = PCOSTM[i, p]\n",
    "        daily_occupancy[p] += n\n",
    "    return penalty, daily_occupancy\n",
    "\n",
    "@njit(fastmath=True)\n",
    "def cost_stats(prediction):\n",
    "    penalty, daily_occupancy = pcostd(prediction)\n",
    "    accounting_cost, n_out_of_range = acostd(daily_occupancy)\n",
    "    return penalty, accounting_cost, n_out_of_range, daily_occupancy[:-1]\n",
    "\n",
    "@njit(fastmath=True)\n",
    "def cost_function(prediction):\n",
    "    penalty, daily_occupancy = pcost(prediction)\n",
    "    accounting_cost, n_out_of_range = acost(daily_occupancy)\n",
    "    return penalty + accounting_cost + n_out_of_range*100000000"
   ]
  },
  {
   "cell_type": "code",
   "execution_count": 6,
   "metadata": {},
   "outputs": [],
   "source": [
    "@njit(fastmath=True)\n",
    "def cost_function_(prediction):\n",
    "    penalty, daily_occupancy = pcost(prediction)\n",
    "    accounting_cost, n_out_of_range = acost(daily_occupancy)\n",
    "    return penalty + accounting_cost, n_out_of_range\n",
    "\n",
    "@njit(fastmath=True)\n",
    "def findAnotherDay4Fam(prediction, fam, occupancy):\n",
    "    old_day = prediction[fam]\n",
    "    best_cost = np.inf\n",
    "    best_day = fam\n",
    "    n = FAMILY_SIZE[fam]\n",
    "    \n",
    "    daysrange = list(range(0,old_day))+list(range(old_day+1,N_DAYS))\n",
    "    for day in daysrange:\n",
    "        prediction[fam] = day\n",
    "        new_cost, _ = cost_function_(prediction)\n",
    "        \n",
    "        if (new_cost<best_cost) and (occupancy[day]+n<=MAX_OCCUPANCY):\n",
    "            best_cost = new_cost\n",
    "            best_day = day\n",
    "            \n",
    "    prediction[fam] = old_day\n",
    "    return best_day, best_cost\n",
    "\n",
    "@njit(fastmath=True)\n",
    "def bestFamAdd(prediction, day, occupancy):\n",
    "    best_cost = np.inf\n",
    "    best_fam = prediction[day]\n",
    "    for fam in np.where(prediction!=day)[0]:\n",
    "        old_day = prediction[fam]\n",
    "        prediction[fam] = day\n",
    "        new_cost, _ = cost_function_(prediction)\n",
    "        prediction[fam] = old_day\n",
    "        n = FAMILY_SIZE[fam]\n",
    "        if (new_cost<best_cost) and (occupancy[old_day]-n>=MIN_OCCUPANCY):\n",
    "            best_cost = new_cost\n",
    "            best_fam = fam   \n",
    "    return best_fam\n",
    "\n",
    "@njit(fastmath=True)\n",
    "def bestFamRemoval(prediction, day, occupancy):\n",
    "    best_cost = np.inf\n",
    "    best_day = day\n",
    "    \n",
    "    for fam in np.where(prediction==day)[0]:\n",
    "        new_day, new_cost = findAnotherDay4Fam(prediction, fam, occupancy)\n",
    "        if new_cost<best_cost:\n",
    "            best_cost = new_cost\n",
    "            best_fam = fam\n",
    "            best_day = new_day\n",
    "            \n",
    "    return best_fam, best_day\n",
    "\n",
    "@njit(fastmath=True)\n",
    "def fixMaxOccupancy(prediction):\n",
    "    penalty, accounting_cost, n_out_of_range, occupancy = cost_stats(prediction)\n",
    "\n",
    "    for day in np.where(occupancy>MAX_OCCUPANCY)[0]:\n",
    "        while occupancy[day]>MAX_OCCUPANCY:\n",
    "            fam, new_day = bestFamRemoval(prediction, day, occupancy)\n",
    "            prediction[fam] = new_day\n",
    "            penalty, accounting_cost, n_out_of_range, occupancy = cost_stats(prediction)\n",
    "            \n",
    "@njit(fastmath=True)            \n",
    "def fixMinOccupancy(prediction):\n",
    "    penalty, accounting_cost, n_out_of_range, occupancy = cost_stats(prediction)\n",
    "\n",
    "    for day in np.where(occupancy<MIN_OCCUPANCY)[0]:\n",
    "        while occupancy[day]<MIN_OCCUPANCY:\n",
    "            fam = bestFamAdd(prediction, day, occupancy)\n",
    "            prediction[fam] = day\n",
    "            penalty, accounting_cost, n_out_of_range, occupancy = cost_stats(prediction)"
   ]
  },
  {
   "cell_type": "code",
   "execution_count": 7,
   "metadata": {},
   "outputs": [],
   "source": [
    "@njit(fastmath=True)\n",
    "def findBetterDay4Family(pred):\n",
    "    fobs = np.argsort(FAMILY_SIZE)\n",
    "    score = cost_function(pred)\n",
    "    original_score = np.inf\n",
    "    \n",
    "    while original_score>score:\n",
    "        original_score = score\n",
    "        for family_id in fobs:\n",
    "            for pick in range(10):\n",
    "                day = DESIRED[family_id, pick]\n",
    "                oldvalue = pred[family_id]\n",
    "                pred[family_id] = day\n",
    "                new_score = cost_function(pred)\n",
    "                if new_score<score:\n",
    "                    score = new_score\n",
    "                else:\n",
    "                    pred[family_id] = oldvalue\n",
    "\n",
    "        print(score, end='\\r')\n",
    "    print(score)"
   ]
  },
  {
   "cell_type": "code",
   "execution_count": 8,
   "metadata": {},
   "outputs": [],
   "source": [
    "N_DAYS = 100\n",
    "N_FAMILIES = 5000\n",
    "MAX_OCCUPANCY = 300\n",
    "MIN_OCCUPANCY = 125\n",
    "\n",
    "data = pd.read_csv('../family_data.csv', index_col='family_id')\n",
    "\n",
    "FAMILY_SIZE = data.n_people.values\n",
    "DESIRED     = data.values[:, :-1] - 1\n",
    "PCOSTM = GetPreferenceCostMatrix(data) # Preference cost matrix\n",
    "ACOSTM = GetAccountingCostMatrix()     # Accounting cost matrix"
   ]
  },
  {
   "cell_type": "code",
   "execution_count": 24,
   "metadata": {},
   "outputs": [
    {
     "data": {
      "text/plain": [
       "300091716.4885751"
      ]
     },
     "execution_count": 24,
     "metadata": {},
     "output_type": "execute_result"
    }
   ],
   "source": [
    "with open('santa.out',\"r\") as f:\n",
    "    results = list(map(int,f.read().strip().split(\" \")))\n",
    "prediction = np.array(results)-1\n",
    "cost_function(prediction)"
   ]
  },
  {
   "cell_type": "code",
   "execution_count": 25,
   "metadata": {},
   "outputs": [
    {
     "name": "stdout",
     "output_type": "stream",
     "text": [
      "86062 , 5654 , 300091716, (124 , 300)\n"
     ]
    }
   ],
   "source": [
    "penalty, accounting_cost, n_out_of_range, occupancy = cost_stats(prediction)\n",
    "print('{:.0f} , {:.0f} , {:.0f}, ({} , {})'.format(penalty.sum(), \n",
    "                                    accounting_cost.sum(), \n",
    "                                    cost_function(prediction),\n",
    "                                    occupancy.min(), \n",
    "                                    occupancy.max()))"
   ]
  },
  {
   "cell_type": "code",
   "execution_count": 27,
   "metadata": {},
   "outputs": [
    {
     "name": "stdout",
     "output_type": "stream",
     "text": [
      "206027.54215475242\n"
     ]
    },
    {
     "data": {
      "application/vnd.jupyter.widget-view+json": {
       "model_id": "3023c27818bb48a5bf070742984a7e81",
       "version_major": 2,
       "version_minor": 0
      },
      "text/plain": [
       "HBox(children=(IntProgress(value=0, max=5000), HTML(value='')))"
      ]
     },
     "metadata": {},
     "output_type": "display_data"
    },
    {
     "name": "stdout",
     "output_type": "stream",
     "text": [
      "110554.33480823298\n",
      "110504.33480823298\n",
      "108397.6885570359\n",
      "108347.6885570359\n",
      "107771.00834948555\n",
      "107648.07889634097\n",
      "107198.88640185102\n",
      "106811.14915216436\n",
      "106650.63769106947\n",
      "105418.63769106947\n",
      "105311.10015941478\n",
      "104575.60193755192\n",
      "104475.60193755192\n",
      "104456.7188783362\n",
      "104355.6639108787\n",
      "101775.59491878588\n",
      "100913.5944433072\n",
      "100659.5944433072\n",
      "98250.56180827809\n",
      "98249.53337675359\n",
      "98134.31241259794\n",
      "97994.31241259794\n",
      "97897.36948194112\n",
      "97889.76495406557\n",
      "97871.76495406557\n",
      "97823.5598556793\n",
      "95643.5598556793\n",
      "95561.06527736802\n",
      "95482.94448953992\n",
      "95439.546451011\n",
      "95283.36094682121\n",
      "95247.36094682121\n",
      "95206.29647555033\n",
      "95111.10715568216\n",
      "95077.4701875136\n",
      "94977.4701875136\n",
      "94974.13289454376\n",
      "94634.9190028061\n",
      "94610.05557148452\n",
      "94492.36545812094\n",
      "94465.36545812094\n",
      "94448.42685435596\n",
      "94437.49451499508\n",
      "94435.96171232684\n",
      "94390.37592151883\n",
      "94372.37592151883\n",
      "94358.37592151883\n",
      "94358.37586408583\n",
      "94339.74608299982\n",
      "94336.57887492799\n",
      "94334.83729418555\n",
      "94234.83729418555\n",
      "94220.61788159536\n",
      "94200.03732279826\n",
      "94173.91600833702\n",
      "94155.03732279826\n",
      "94144.90284303986\n",
      "94136.42799534001\n",
      "94110.58653659989\n",
      "94093.03363879478\n",
      "94081.99141680147\n",
      "94067.99141680147\n",
      "94048.80156962796\n",
      "94044.13958079607\n",
      "94026.13958079607\n",
      "94013.93327237705\n",
      "93999.08250268889\n",
      "93913.08250268889\n",
      "93891.892661913\n",
      "93867.62999290817\n",
      "93856.77241754426\n",
      "93852.76560328422\n",
      "93840.26839760743\n",
      "93804.26839760743\n",
      "93632.26839760743\n",
      "93603.31519918758\n",
      "93558.31519918758\n",
      "92551.79000720331\n",
      "92357.82523028651\n",
      "92357.45584883161\n",
      "92347.52923063101\n",
      "92325.1419020989\n",
      "92321.91507831262\n",
      "92318.72275466444\n",
      "92318.50571919786\n",
      "92314.35465815075\n",
      "92219.35465815075\n",
      "92192.35465815075\n",
      "91884.35465815075\n",
      "91827.17686345958\n",
      "91791.17686345958\n",
      "91641.17686345958\n",
      "91633.76846085645\n",
      "91624.08571210474\n",
      "91574.08571210474\n",
      "91572.08789412894\n",
      "91318.08789412894\n",
      "91309.45857020529\n",
      "91302.13547510486\n",
      "91225.13547510486\n",
      "91222.31203690739\n",
      "91214.1323089641\n",
      "91199.55573688979\n",
      "91177.55573688979\n",
      "91173.39797601811\n",
      "91173.14399270917\n",
      "91141.10809288106\n",
      "91127.10809288106\n",
      "91016.26189624993\n",
      "90980.26189624993\n",
      "90941.72741117109\n",
      "90929.64343599252\n"
     ]
    },
    {
     "data": {
      "application/vnd.jupyter.widget-view+json": {
       "model_id": "c4a4506d8ed14518bf32f6d954ce57bc",
       "version_major": 2,
       "version_minor": 0
      },
      "text/plain": [
       "HBox(children=(IntProgress(value=0, max=5000), HTML(value='')))"
      ]
     },
     "metadata": {},
     "output_type": "display_data"
    },
    {
     "name": "stdout",
     "output_type": "stream",
     "text": [
      "90923.0880120556\n",
      "90900.66040296294\n",
      "90890.64696973452\n",
      "90848.45075719726\n",
      "90796.61473575549\n",
      "90791.20640286719\n",
      "90786.03049533945\n",
      "90656.58591927636\n",
      "90655.57018447111\n",
      "90653.27508552148\n",
      "90615.26561495921\n",
      "90615.25294609595\n",
      "90606.17888763032\n",
      "90602.94995773399\n",
      "90575.94995773399\n",
      "90574.62240112424\n",
      "90516.44902229239\n",
      "90516.185106061\n",
      "90513.60602610589\n",
      "90490.31599715525\n",
      "90488.24292940175\n",
      "90484.42332015611\n",
      "90479.95593624262\n",
      "90478.8347002126\n",
      "90477.7055125982\n",
      "90474.00541892019\n",
      "90470.30721240127\n",
      "90470.24067491505\n"
     ]
    },
    {
     "data": {
      "application/vnd.jupyter.widget-view+json": {
       "model_id": "b4a17a4e37c04506baa2d9b3795d2e54",
       "version_major": 2,
       "version_minor": 0
      },
      "text/plain": [
       "HBox(children=(IntProgress(value=0, max=5000), HTML(value='')))"
      ]
     },
     "metadata": {},
     "output_type": "display_data"
    },
    {
     "name": "stdout",
     "output_type": "stream",
     "text": [
      "90466.88737332623\n",
      "90458.34574095836\n",
      "90457.2938892466\n",
      "90449.28236567971\n",
      "90447.88837514709\n",
      "90441.43668713985\n",
      "90437.0239683827\n",
      "90434.47422317526\n",
      "90434.24268801397\n",
      "90417.43408219003\n"
     ]
    },
    {
     "data": {
      "application/vnd.jupyter.widget-view+json": {
       "model_id": "2e801efb343142da8f0c91852aeeb2c3",
       "version_major": 2,
       "version_minor": 0
      },
      "text/plain": [
       "HBox(children=(IntProgress(value=0, max=5000), HTML(value='')))"
      ]
     },
     "metadata": {},
     "output_type": "display_data"
    },
    {
     "name": "stdout",
     "output_type": "stream",
     "text": [
      "90398.65777641445\n",
      "90387.91990781021\n",
      "90349.22196703638\n",
      "90347.13058456816\n",
      "90344.68692228664\n"
     ]
    },
    {
     "data": {
      "application/vnd.jupyter.widget-view+json": {
       "model_id": "8f8f0c1fd0cf491fa7457d2ccc7c5b6d",
       "version_major": 2,
       "version_minor": 0
      },
      "text/plain": [
       "HBox(children=(IntProgress(value=0, max=5000), HTML(value='')))"
      ]
     },
     "metadata": {},
     "output_type": "display_data"
    }
   ],
   "source": [
    "global_best = prediction\n",
    "global_best_score = cost_function(global_best)\n",
    "print(global_best_score)\n",
    "previous_score = global_best_score\n",
    "while True:\n",
    "    for i in tqdm_notebook(range(5000)):\n",
    "        for j in range(i+1,5000):\n",
    "            global_best[i],global_best[j] = global_best[j],global_best[i]\n",
    "            current_score = cost_function(global_best)\n",
    "            if current_score<global_best_score:\n",
    "                global_best_score = current_score\n",
    "                print(current_score)\n",
    "            else:\n",
    "                global_best[i],global_best[j] = global_best[j],global_best[i]\n",
    "    if previous_score>global_best_score:\n",
    "        previous_score = global_best_score\n",
    "    else:\n",
    "        break"
   ]
  },
  {
   "cell_type": "code",
   "execution_count": 26,
   "metadata": {},
   "outputs": [
    {
     "name": "stdout",
     "output_type": "stream",
     "text": [
      "93790 , 112238 , 206028 , (125 , 300)\n"
     ]
    }
   ],
   "source": [
    "\n",
    "fixMinOccupancy(prediction)\n",
    "fixMaxOccupancy(prediction)\n",
    "penalty, accounting_cost, n_out_of_range, occupancy = cost_stats(prediction)\n",
    "print('{:.0f} , {:.0f} , {:.0f} , ({} , {})'.format(penalty.sum(), \n",
    "                                    accounting_cost.sum(), \n",
    "                                    cost_function(prediction),\n",
    "                                    occupancy.min(), \n",
    "                                    occupancy.max()))"
   ]
  },
  {
   "cell_type": "markdown",
   "metadata": {},
   "source": [
    "optimium_cost =  67309.4786351117    \n",
    "optimium_preference_cost =  61383.472062839195  \n",
    "optimium_accouting_cost  =  5926.006572272518"
   ]
  },
  {
   "cell_type": "code",
   "execution_count": 12,
   "metadata": {},
   "outputs": [
    {
     "name": "stdout",
     "output_type": "stream",
     "text": [
      "[300 285 300 299 279 252 240 244 261 285 300 298 276 264 257 280 299 294\n",
      " 274 246 223 237 258 285 299 291 271 256 245 247 275 268 243 208 178 148\n",
      " 125 271 265 241 209 175 155 126 297 284 260 229 200 179 215 250 249 225\n",
      " 191 157 125 219 247 233 202 161 125 127 125 249 220 183 139 125 125 126\n",
      " 207 199 171 128 125 125 125 226 207 174 129 125 126 125 248 225 199 158\n",
      " 125 127 125 225 206 172 126 125 125 126   0]\n"
     ]
    }
   ],
   "source": [
    "daily_occupancy = np.zeros(101, dtype=np.int16)\n",
    "for i,r in enumerate(prediction):\n",
    "    daily_occupancy[r]+=family_size[i]\n",
    "print(daily_occupancy)"
   ]
  },
  {
   "cell_type": "code",
   "execution_count": null,
   "metadata": {},
   "outputs": [],
   "source": []
  },
  {
   "cell_type": "code",
   "execution_count": null,
   "metadata": {},
   "outputs": [],
   "source": []
  },
  {
   "cell_type": "code",
   "execution_count": 9,
   "metadata": {},
   "outputs": [],
   "source": [
    "# sub = pd.read_csv(\"../sample_submission.csv\")\n",
    "# sub.assigned_day = results\n",
    "# sub.to_csv(f\"submission_localsolver_{score(results):.0f}.csv\",index=False)"
   ]
  },
  {
   "cell_type": "code",
   "execution_count": null,
   "metadata": {},
   "outputs": [],
   "source": [
    "sub = pd.DataFrame(range(N_FAMILIES), columns=['family_id'])\n",
    "sub['assigned_day'] = final+1\n",
    "sub.to_csv('submission.csv', index=False)"
   ]
  }
 ],
 "metadata": {
  "kernelspec": {
   "display_name": "Python 3",
   "language": "python",
   "name": "python3"
  },
  "language_info": {
   "codemirror_mode": {
    "name": "ipython",
    "version": 3
   },
   "file_extension": ".py",
   "mimetype": "text/x-python",
   "name": "python",
   "nbconvert_exporter": "python",
   "pygments_lexer": "ipython3",
   "version": "3.6.8"
  }
 },
 "nbformat": 4,
 "nbformat_minor": 2
}
