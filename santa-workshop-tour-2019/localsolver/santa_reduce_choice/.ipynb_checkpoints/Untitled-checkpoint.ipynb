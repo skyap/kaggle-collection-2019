{
 "cells": [
  {
   "cell_type": "code",
   "execution_count": 22,
   "metadata": {},
   "outputs": [
    {
     "data": {
      "text/plain": [
       "'  bounds =          280'"
      ]
     },
     "execution_count": 22,
     "metadata": {},
     "output_type": "execute_result"
    }
   ],
   "source": [
    "\n",
    "result = subprocess.run(['localsolver','toy.lsp','threshold=438'], stdout=subprocess.PIPE,shell=True,bufsize=1)\n",
    "result.stdout.decode('utf-8').split(\"\\r\\n\")[-2]"
   ]
  },
  {
   "cell_type": "code",
   "execution_count": 1,
   "metadata": {},
   "outputs": [],
   "source": [
    "import subprocess\n",
    "import os\n",
    "import signal"
   ]
  },
  {
   "cell_type": "code",
   "execution_count": 2,
   "metadata": {},
   "outputs": [
    {
     "name": "stdout",
     "output_type": "stream",
     "text": [
      "LocalSolver 9.0.20191204-Win64. All rights reserved.\n",
      "Error: No token available. All tokens are currently in use.\n",
      "\n"
     ]
    },
    {
     "data": {
      "text/plain": [
       "'\\n'"
      ]
     },
     "execution_count": 2,
     "metadata": {},
     "output_type": "execute_result"
    }
   ],
   "source": [
    "process = subprocess.Popen(\n",
    "    'localsolver santa.lsp threshold=439',\n",
    "    stdout=subprocess.PIPE,\n",
    "    stderr=subprocess.STDOUT,\n",
    "    shell=True,\n",
    "    encoding='utf-8',\n",
    "    errors='replace'\n",
    ")\n",
    "\n",
    "while True:\n",
    "    realtime_output = process.stdout.readline()\n",
    "\n",
    "    if realtime_output == '' and process.poll() is not None:\n",
    "        break\n",
    "\n",
    "    if realtime_output:\n",
    "        print(realtime_output.strip(), flush=True)\n",
    "        result = realtime_output\n",
    "\n",
    "process.kill()      \n",
    "result\n",
    "        \n",
    "    "
   ]
  },
  {
   "cell_type": "code",
   "execution_count": null,
   "metadata": {},
   "outputs": [],
   "source": []
  }
 ],
 "metadata": {
  "kernelspec": {
   "display_name": "Python 3",
   "language": "python",
   "name": "python3"
  },
  "language_info": {
   "codemirror_mode": {
    "name": "ipython",
    "version": 3
   },
   "file_extension": ".py",
   "mimetype": "text/x-python",
   "name": "python",
   "nbconvert_exporter": "python",
   "pygments_lexer": "ipython3",
   "version": "3.6.8"
  }
 },
 "nbformat": 4,
 "nbformat_minor": 2
}
