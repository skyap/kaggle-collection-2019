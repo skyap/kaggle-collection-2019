{
 "cells": [
  {
   "cell_type": "code",
   "execution_count": 1,
   "metadata": {},
   "outputs": [],
   "source": [
    "import numpy as np\n",
    "import pandas as pd\n",
    "from numba import njit\n",
    "from tqdm import tqdm_notebook"
   ]
  },
  {
   "cell_type": "code",
   "execution_count": 2,
   "metadata": {},
   "outputs": [
    {
     "ename": "NameError",
     "evalue": "name 'int64' is not defined",
     "output_type": "error",
     "traceback": [
      "\u001b[1;31m---------------------------------------------------------------------------\u001b[0m",
      "\u001b[1;31mNameError\u001b[0m                                 Traceback (most recent call last)",
      "\u001b[1;32m<ipython-input-2-fa3137fb6c5d>\u001b[0m in \u001b[0;36m<module>\u001b[1;34m\u001b[0m\n\u001b[0;32m     48\u001b[0m \u001b[1;33m\u001b[0m\u001b[0m\n\u001b[0;32m     49\u001b[0m \u001b[1;33m\u001b[0m\u001b[0m\n\u001b[1;32m---> 50\u001b[1;33m \u001b[0maccounting_cost_matrix\u001b[0m \u001b[1;33m=\u001b[0m \u001b[0mnp\u001b[0m\u001b[1;33m.\u001b[0m\u001b[0mzeros\u001b[0m\u001b[1;33m(\u001b[0m\u001b[1;33m(\u001b[0m\u001b[1;36m500\u001b[0m\u001b[1;33m,\u001b[0m \u001b[1;36m500\u001b[0m\u001b[1;33m)\u001b[0m\u001b[1;33m,\u001b[0m\u001b[0mdtype\u001b[0m\u001b[1;33m=\u001b[0m\u001b[0mint64\u001b[0m\u001b[1;33m)\u001b[0m\u001b[1;33m\u001b[0m\u001b[1;33m\u001b[0m\u001b[0m\n\u001b[0m\u001b[0;32m     51\u001b[0m \u001b[1;32mfor\u001b[0m \u001b[0mn\u001b[0m \u001b[1;32min\u001b[0m \u001b[0mrange\u001b[0m\u001b[1;33m(\u001b[0m\u001b[0maccounting_cost_matrix\u001b[0m\u001b[1;33m.\u001b[0m\u001b[0mshape\u001b[0m\u001b[1;33m[\u001b[0m\u001b[1;36m0\u001b[0m\u001b[1;33m]\u001b[0m\u001b[1;33m)\u001b[0m\u001b[1;33m:\u001b[0m\u001b[1;33m\u001b[0m\u001b[1;33m\u001b[0m\u001b[0m\n\u001b[0;32m     52\u001b[0m     \u001b[1;32mfor\u001b[0m \u001b[0mdiff\u001b[0m \u001b[1;32min\u001b[0m \u001b[0mrange\u001b[0m\u001b[1;33m(\u001b[0m\u001b[0maccounting_cost_matrix\u001b[0m\u001b[1;33m.\u001b[0m\u001b[0mshape\u001b[0m\u001b[1;33m[\u001b[0m\u001b[1;36m1\u001b[0m\u001b[1;33m]\u001b[0m\u001b[1;33m)\u001b[0m\u001b[1;33m:\u001b[0m\u001b[1;33m\u001b[0m\u001b[1;33m\u001b[0m\u001b[0m\n",
      "\u001b[1;31mNameError\u001b[0m: name 'int64' is not defined"
     ]
    }
   ],
   "source": [
    "data = pd.read_csv(\"../../family_data.csv\",index_col = 'family_id')\n",
    "family_size = data.n_people.values.astype(np.int8)\n",
    "penalties = np.asarray([\n",
    "    [\n",
    "        0,\n",
    "        50,\n",
    "        50 + 9 * n,\n",
    "        100 + 9 * n,\n",
    "        200 + 9 * n,\n",
    "        200 + 18 * n,\n",
    "        300 + 18 * n,\n",
    "        300 + 36 * n,\n",
    "        400 + 36 * n,\n",
    "        500 + 36 * n + 199 * n,\n",
    "        500 + 36 * n + 398 * n\n",
    "    ] for n in range(family_size.max() + 1)\n",
    "])\n",
    "\n",
    "# penalties = np.asarray([\n",
    "#     [\n",
    "#         0,\n",
    "#         50,\n",
    "#         50 + 9 * n,\n",
    "#         100 + 9 * n,\n",
    "#         200 + 9 * n,\n",
    "#         1000000,\n",
    "#         1000000,\n",
    "#         1000000,\n",
    "#         1000000,\n",
    "#         1000000,\n",
    "#         1000000\n",
    "\n",
    "#     ] for n in range(family_size.max() + 1)\n",
    "# ])\n",
    "\n",
    "family_cost_matrix = np.concatenate(data.n_people.apply(lambda n: np.repeat(penalties[n, 10], 100).reshape(1, 100)))\n",
    "\n",
    "for fam in data.index:\n",
    "    for choice_order, day in enumerate(data.loc[fam].drop(\"n_people\")):\n",
    "        family_cost_matrix[fam, day - 1] = penalties[data.loc[fam, \"n_people\"], choice_order]\n",
    "\n",
    "\n",
    "# family_cost_matrix = np.zeros((5000,4),dtype=np.uint8)\n",
    "# for fam in data.index:\n",
    "#     for choice_order,day in enumerate(data.loc[fam].drop(\"n_people\")[:4]):\n",
    "#         family_cost_matrix[fam, choice_order] = penalties[data.loc[fam, \"n_people\"], choice_order]\n",
    "\n",
    "\n",
    "        \n",
    "accounting_cost_matrix = np.zeros((500, 500),dtype=int64)\n",
    "for n in range(accounting_cost_matrix.shape[0]):\n",
    "    for diff in range(accounting_cost_matrix.shape[1]):\n",
    "        accounting_cost_matrix[n, diff] = max(0, int((n - 125.0) / 400.0 * n**(0.5 + diff / 50.0)))\n",
    "        \n",
    "def cost_function(prediction, family_size=family_size, family_cost_matrix=family_cost_matrix, accounting_cost_matrix=accounting_cost_matrix):\n",
    "    N_DAYS = family_cost_matrix.shape[1]\n",
    "    MAX_OCCUPANCY = 300\n",
    "    MIN_OCCUPANCY = 125\n",
    "    penalty = 0\n",
    "    daily_occupancy = np.zeros(N_DAYS + 1, dtype=np.int16)\n",
    "    for i, (pred, n) in enumerate(zip(prediction, family_size)):\n",
    "        daily_occupancy[pred - 1] += n\n",
    "        penalty += family_cost_matrix[i, pred - 1]\n",
    "\n",
    "    accounting_cost = 0\n",
    "    n_low = 0\n",
    "    n_high = 0\n",
    "    daily_occupancy[-1] = daily_occupancy[-2]\n",
    "    for day in range(N_DAYS):\n",
    "        n_next = daily_occupancy[day + 1]\n",
    "        n = daily_occupancy[day]\n",
    "        n_high += (n > MAX_OCCUPANCY)\n",
    "        n_low += (n < MIN_OCCUPANCY)\n",
    "        diff = abs(n - n_next)\n",
    "        accounting_cost += accounting_cost_matrix[n, diff]\n",
    "\n",
    "    return np.asarray([penalty, accounting_cost, n_low, n_high])\n",
    "\n",
    "\n",
    "def score(prediction):\n",
    "    fc, ac, l, h = cost_function(prediction, family_size, family_cost_matrix, accounting_cost_matrix)\n",
    "    return (fc + ac) + (l + h) * 1000000"
   ]
  },
  {
   "cell_type": "code",
   "execution_count": 21,
   "metadata": {},
   "outputs": [],
   "source": [
    "accounting_cost_matrix = np.zeros((500, 500),dtype=int)\n",
    "for n in range(accounting_cost_matrix.shape[0]):\n",
    "    for diff in range(accounting_cost_matrix.shape[1]):\n",
    "        temp = (n - 125.0) / 400.0 * n**(0.5 + diff / 50.0)\n",
    "        if temp>1000000:\n",
    "            temp=1000000\n",
    "        accounting_cost_matrix[n, diff] = max(0, int(temp))"
   ]
  },
  {
   "cell_type": "code",
   "execution_count": 22,
   "metadata": {},
   "outputs": [
    {
     "data": {
      "text/plain": [
       "1000000"
      ]
     },
     "execution_count": 22,
     "metadata": {},
     "output_type": "execute_result"
    }
   ],
   "source": [
    "accounting_cost_matrix[280,280]"
   ]
  },
  {
   "cell_type": "code",
   "execution_count": null,
   "metadata": {},
   "outputs": [],
   "source": []
  },
  {
   "cell_type": "markdown",
   "metadata": {},
   "source": [
    "# input files"
   ]
  },
  {
   "cell_type": "code",
   "execution_count": 7,
   "metadata": {},
   "outputs": [],
   "source": [
    "with open('santa_size.in',\"w\") as f:\n",
    "    f.write(\" \".join(map(str,family_size)))"
   ]
  },
  {
   "cell_type": "code",
   "execution_count": 36,
   "metadata": {},
   "outputs": [],
   "source": [
    "with open('santa_cost.in',\"w\") as f:\n",
    "    f.write(\" \".join(map(str,family_cost_matrix.reshape(5000*100))))"
   ]
  },
  {
   "cell_type": "code",
   "execution_count": 26,
   "metadata": {},
   "outputs": [],
   "source": [
    "with open('santa_choice.in',\"w\") as f:\n",
    "    f.write(\" \".join(map(str,family_choice_matrix.reshape(5000*4))))"
   ]
  },
  {
   "cell_type": "code",
   "execution_count": 21,
   "metadata": {},
   "outputs": [],
   "source": [
    "with open('santa_acc_cost.in',\"w\") as f:\n",
    "    f.write(\" \".join(map(str,accounting_cost_matrix.reshape(500*500))))"
   ]
  },
  {
   "cell_type": "code",
   "execution_count": 23,
   "metadata": {},
   "outputs": [],
   "source": [
    "with open('santa_acc_cost_round.in',\"w\") as f:\n",
    "    f.write(\" \".join(map(str,accounting_cost_matrix.reshape(500*500))))"
   ]
  },
  {
   "cell_type": "code",
   "execution_count": 7,
   "metadata": {},
   "outputs": [
    {
     "name": "stdout",
     "output_type": "stream",
     "text": [
      "64356 , 5524 , 69880, (125 , 300) , 0\n"
     ]
    }
   ],
   "source": [
    "results = pd.read_csv(\"submission69880.csv\",index_col = 'family_id')\n",
    "penalty, accounting_cost, n_out_of_range, occupancy = cost_stats(results.assigned_day.values-1)\n",
    "print('{:.0f} , {:.0f} , {:.0f}, ({} , {}) , {}'.format(penalty.sum(), \n",
    "                                    accounting_cost.sum(), \n",
    "                                    cost_function(results.assigned_day.values-1),\n",
    "                                    occupancy.min(), \n",
    "                                    occupancy.max(),\n",
    "                                    n_out_of_range))"
   ]
  },
  {
   "cell_type": "code",
   "execution_count": 8,
   "metadata": {},
   "outputs": [],
   "source": [
    "with open('santa.out',\"w\") as f:\n",
    "    f.write(\" \".join(map(str,results.assigned_day.values)))"
   ]
  },
  {
   "cell_type": "markdown",
   "metadata": {},
   "source": [
    "# output files"
   ]
  },
  {
   "cell_type": "code",
   "execution_count": null,
   "metadata": {},
   "outputs": [],
   "source": []
  },
  {
   "cell_type": "code",
   "execution_count": 4,
   "metadata": {},
   "outputs": [],
   "source": [
    "def get_penalty(n, choice):\n",
    "    penalty = None\n",
    "    if choice == 0:\n",
    "        penalty = 0\n",
    "    elif choice == 1:\n",
    "        penalty = 50\n",
    "    elif choice == 2:\n",
    "        penalty = 50 + 9 * n\n",
    "    elif choice == 3:\n",
    "        penalty = 100 + 9 * n\n",
    "    elif choice == 4:\n",
    "        penalty = 200 + 9 * n\n",
    "    elif choice == 5:\n",
    "        penalty = 200 + 18 * n\n",
    "    elif choice == 6:\n",
    "        penalty = 300 + 18 * n\n",
    "    elif choice == 7:\n",
    "        penalty = 300 + 36 * n\n",
    "    elif choice == 8:\n",
    "        penalty = 400 + 36 * n\n",
    "    elif choice == 9:\n",
    "        penalty = 500 + 36 * n + 199 * n\n",
    "    else:\n",
    "        penalty = 500 + 36 * n + 398 * n\n",
    "    return penalty\n",
    "\n",
    "\n",
    "def GetPreferenceCostMatrix(data):\n",
    "    cost_matrix = np.zeros((N_FAMILIES, N_DAYS), dtype=np.int64)\n",
    "    for i in range(N_FAMILIES):\n",
    "        desired = data.values[i, :-1]\n",
    "        cost_matrix[i, :] = get_penalty(FAMILY_SIZE[i], 10)\n",
    "        for j, day in enumerate(desired):\n",
    "            cost_matrix[i, day-1] = get_penalty(FAMILY_SIZE[i], j)\n",
    "    return cost_matrix\n",
    "\n",
    "\n",
    "def GetAccountingCostMatrix():\n",
    "    ac = np.zeros((1000, 1000), dtype=np.float64)\n",
    "    for n in range(ac.shape[0]):\n",
    "        for n_p1 in range(ac.shape[1]):\n",
    "            diff = abs(n - n_p1)\n",
    "            ac[n, n_p1] = max(0, (n - 125) / 400 * n**(0.5 + diff / 50.0))\n",
    "    return ac\n",
    "\n",
    "# cost_function, etc.\n",
    "\n",
    "# preference cost\n",
    "@njit(fastmath=True)\n",
    "def pcost(prediction):\n",
    "    daily_occupancy = np.zeros(N_DAYS+1, dtype=np.int64)\n",
    "    penalty = 0\n",
    "    for (i, p) in enumerate(prediction):\n",
    "        n = FAMILY_SIZE[i]\n",
    "        penalty += PCOSTM[i, p]\n",
    "        daily_occupancy[p] += n\n",
    "    return penalty, daily_occupancy\n",
    "\n",
    "\n",
    "# accounting cost\n",
    "@njit(fastmath=True)\n",
    "def acost(daily_occupancy):\n",
    "    accounting_cost = 0\n",
    "    n_out_of_range = 0\n",
    "    daily_occupancy[-1] = daily_occupancy[-2]\n",
    "    for day in range(N_DAYS):\n",
    "        n_p1 = daily_occupancy[day + 1]\n",
    "        n    = daily_occupancy[day]\n",
    "        n_out_of_range += (n > MAX_OCCUPANCY) or (n < MIN_OCCUPANCY)\n",
    "        accounting_cost += ACOSTM[n, n_p1]\n",
    "    return accounting_cost, n_out_of_range\n",
    "\n",
    "@njit(fastmath=True)\n",
    "def acostd(daily_occupancy):\n",
    "    accounting_cost = np.zeros(N_DAYS, dtype=np.float64)\n",
    "    n_out_of_range = 0\n",
    "    daily_occupancy[-1] = daily_occupancy[-2]\n",
    "    for day in range(N_DAYS):\n",
    "        n_p1 = daily_occupancy[day + 1]\n",
    "        n    = daily_occupancy[day]\n",
    "        n_out_of_range += (n > MAX_OCCUPANCY) or (n < MIN_OCCUPANCY)\n",
    "        accounting_cost[day] = ACOSTM[n, n_p1]\n",
    "    return accounting_cost, n_out_of_range\n",
    "\n",
    "@njit(fastmath=True)\n",
    "def pcostd(prediction):\n",
    "    daily_occupancy = np.zeros(N_DAYS+1, dtype=np.int64)\n",
    "    penalty = np.empty_like(prediction)\n",
    "    for (i, p) in enumerate(prediction):\n",
    "        n = FAMILY_SIZE[i]\n",
    "        penalty[i] = PCOSTM[i, p]\n",
    "        daily_occupancy[p] += n\n",
    "    return penalty, daily_occupancy\n",
    "\n",
    "@njit(fastmath=True)\n",
    "def cost_stats(prediction):\n",
    "    penalty, daily_occupancy = pcostd(prediction)\n",
    "    accounting_cost, n_out_of_range = acostd(daily_occupancy)\n",
    "    return penalty, accounting_cost, n_out_of_range, daily_occupancy[:-1]\n",
    "\n",
    "@njit(fastmath=True)\n",
    "def cost_function(prediction):\n",
    "    penalty, daily_occupancy = pcost(prediction)\n",
    "    accounting_cost, n_out_of_range = acost(daily_occupancy)\n",
    "    return penalty + accounting_cost + n_out_of_range*100000000\n",
    "\n",
    "@njit(fastmath=True)\n",
    "def cost_function_(prediction):\n",
    "    penalty, daily_occupancy = pcost(prediction)\n",
    "    accounting_cost, n_out_of_range = acost(daily_occupancy)\n",
    "    return penalty + accounting_cost, n_out_of_range\n",
    "\n",
    "@njit(fastmath=True)\n",
    "def findAnotherDay4Fam(prediction, fam, occupancy):\n",
    "    old_day = prediction[fam]\n",
    "    best_cost = np.inf\n",
    "    best_day = fam\n",
    "    n = FAMILY_SIZE[fam]\n",
    "    \n",
    "    daysrange = list(range(0,old_day))+list(range(old_day+1,N_DAYS))\n",
    "    for day in daysrange:\n",
    "        prediction[fam] = day\n",
    "        new_cost, _ = cost_function_(prediction)\n",
    "        \n",
    "        if (new_cost<best_cost) and (occupancy[day]+n<=MAX_OCCUPANCY):\n",
    "            best_cost = new_cost\n",
    "            best_day = day\n",
    "            \n",
    "    prediction[fam] = old_day\n",
    "    return best_day, best_cost\n",
    "\n",
    "@njit(fastmath=True)\n",
    "def bestFamAdd(prediction, day, occupancy):\n",
    "    best_cost = np.inf\n",
    "    best_fam = prediction[day]\n",
    "    for fam in np.where(prediction!=day)[0]:\n",
    "        old_day = prediction[fam]\n",
    "        prediction[fam] = day\n",
    "        new_cost, _ = cost_function_(prediction)\n",
    "        prediction[fam] = old_day\n",
    "        n = FAMILY_SIZE[fam]\n",
    "        if (new_cost<best_cost) and (occupancy[old_day]-n>=MIN_OCCUPANCY):\n",
    "            best_cost = new_cost\n",
    "            best_fam = fam   \n",
    "    return best_fam\n",
    "\n",
    "@njit(fastmath=True)\n",
    "def bestFamRemoval(prediction, day, occupancy):\n",
    "    best_cost = np.inf\n",
    "    best_day = day\n",
    "    \n",
    "    for fam in np.where(prediction==day)[0]:\n",
    "        new_day, new_cost = findAnotherDay4Fam(prediction, fam, occupancy)\n",
    "        if new_cost<best_cost:\n",
    "            best_cost = new_cost\n",
    "            best_fam = fam\n",
    "            best_day = new_day\n",
    "            \n",
    "    return best_fam, best_day\n",
    "\n",
    "@njit(fastmath=True)\n",
    "def fixMaxOccupancy(prediction):\n",
    "    penalty, accounting_cost, n_out_of_range, occupancy = cost_stats(prediction)\n",
    "\n",
    "    for day in np.where(occupancy>MAX_OCCUPANCY)[0]:\n",
    "        while occupancy[day]>MAX_OCCUPANCY:\n",
    "            fam, new_day = bestFamRemoval(prediction, day, occupancy)\n",
    "            prediction[fam] = new_day\n",
    "            penalty, accounting_cost, n_out_of_range, occupancy = cost_stats(prediction)\n",
    "            \n",
    "@njit(fastmath=True)            \n",
    "def fixMinOccupancy(prediction):\n",
    "    penalty, accounting_cost, n_out_of_range, occupancy = cost_stats(prediction)\n",
    "\n",
    "    for day in np.where(occupancy<MIN_OCCUPANCY)[0]:\n",
    "        while occupancy[day]<MIN_OCCUPANCY:\n",
    "            fam = bestFamAdd(prediction, day, occupancy)\n",
    "            prediction[fam] = day\n",
    "            penalty, accounting_cost, n_out_of_range, occupancy = cost_stats(prediction)\n",
    "\n",
    "@njit(fastmath=True)\n",
    "def findBetterDay4Family(pred):\n",
    "    fobs = np.argsort(FAMILY_SIZE)\n",
    "    score = cost_function(pred)\n",
    "    original_score = np.inf\n",
    "    \n",
    "    while original_score>score:\n",
    "        original_score = score\n",
    "        for family_id in fobs:\n",
    "            for pick in range(10):\n",
    "                day = DESIRED[family_id, pick]\n",
    "                oldvalue = pred[family_id]\n",
    "                pred[family_id] = day\n",
    "                new_score = cost_function(pred)\n",
    "                if new_score<score:\n",
    "                    score = new_score\n",
    "                else:\n",
    "                    pred[family_id] = oldvalue\n",
    "\n",
    "        print(score, end='\\r')\n",
    "    print(score)\n",
    "\n",
    "N_DAYS = 100\n",
    "N_FAMILIES = 5000\n",
    "MAX_OCCUPANCY = 300\n",
    "MIN_OCCUPANCY = 125\n",
    "\n",
    "data = pd.read_csv('../../family_data.csv', index_col='family_id')\n",
    "\n",
    "FAMILY_SIZE = data.n_people.values\n",
    "DESIRED     = data.values[:, :-1] - 1\n",
    "PCOSTM = GetPreferenceCostMatrix(data) # Preference cost matrix\n",
    "ACOSTM = GetAccountingCostMatrix()     # Accounting cost matrix"
   ]
  },
  {
   "cell_type": "markdown",
   "metadata": {},
   "source": [
    "# fix first choice"
   ]
  },
  {
   "cell_type": "code",
   "execution_count": 3,
   "metadata": {},
   "outputs": [
    {
     "name": "stdout",
     "output_type": "stream",
     "text": [
      "[   0 1576  202  412  379  358  132  166  160  163  362  393  437  158\n",
      "  209  172  191  433  312  356  155  126  162  196  339  418  370  232\n",
      "  145  191  127  357  358  379  106  104  118   96  289  316  304  124\n",
      "  133  142  102  350  303  326  167  130   92  150  338  252  330   93\n",
      "  109  102  138  350  320  250   48   49   31   44  310  275  235   55\n",
      "   34   50   46  240  217  267   35   57   50   39  228  312  252   54\n",
      "   56   69   54  321  299  302   59   75   28   43  255  259  294   45\n",
      "   56   57   43]\n"
     ]
    }
   ],
   "source": [
    "daily_occupancy = np.zeros(101, dtype=np.int16)\n",
    "for i,r in enumerate(data.choice_0.values):\n",
    "    daily_occupancy[r]+=FAMILY_SIZE[i]\n",
    "print(daily_occupancy)"
   ]
  },
  {
   "cell_type": "code",
   "execution_count": 13,
   "metadata": {},
   "outputs": [
    {
     "data": {
      "text/html": [
       "<div>\n",
       "<style scoped>\n",
       "    .dataframe tbody tr th:only-of-type {\n",
       "        vertical-align: middle;\n",
       "    }\n",
       "\n",
       "    .dataframe tbody tr th {\n",
       "        vertical-align: top;\n",
       "    }\n",
       "\n",
       "    .dataframe thead th {\n",
       "        text-align: right;\n",
       "    }\n",
       "</style>\n",
       "<table border=\"1\" class=\"dataframe\">\n",
       "  <thead>\n",
       "    <tr style=\"text-align: right;\">\n",
       "      <th></th>\n",
       "      <th>choice_0</th>\n",
       "      <th>choice_1</th>\n",
       "      <th>choice_2</th>\n",
       "      <th>choice_3</th>\n",
       "      <th>choice_4</th>\n",
       "      <th>choice_5</th>\n",
       "      <th>choice_6</th>\n",
       "      <th>choice_7</th>\n",
       "      <th>choice_8</th>\n",
       "      <th>choice_9</th>\n",
       "      <th>n_people</th>\n",
       "    </tr>\n",
       "    <tr>\n",
       "      <th>family_id</th>\n",
       "      <th></th>\n",
       "      <th></th>\n",
       "      <th></th>\n",
       "      <th></th>\n",
       "      <th></th>\n",
       "      <th></th>\n",
       "      <th></th>\n",
       "      <th></th>\n",
       "      <th></th>\n",
       "      <th></th>\n",
       "      <th></th>\n",
       "    </tr>\n",
       "  </thead>\n",
       "  <tbody>\n",
       "    <tr>\n",
       "      <td>0</td>\n",
       "      <td>52</td>\n",
       "      <td>38</td>\n",
       "      <td>12</td>\n",
       "      <td>82</td>\n",
       "      <td>33</td>\n",
       "      <td>75</td>\n",
       "      <td>64</td>\n",
       "      <td>76</td>\n",
       "      <td>10</td>\n",
       "      <td>28</td>\n",
       "      <td>4</td>\n",
       "    </tr>\n",
       "    <tr>\n",
       "      <td>1</td>\n",
       "      <td>26</td>\n",
       "      <td>4</td>\n",
       "      <td>82</td>\n",
       "      <td>5</td>\n",
       "      <td>11</td>\n",
       "      <td>47</td>\n",
       "      <td>38</td>\n",
       "      <td>6</td>\n",
       "      <td>66</td>\n",
       "      <td>61</td>\n",
       "      <td>4</td>\n",
       "    </tr>\n",
       "    <tr>\n",
       "      <td>2</td>\n",
       "      <td>100</td>\n",
       "      <td>54</td>\n",
       "      <td>25</td>\n",
       "      <td>12</td>\n",
       "      <td>27</td>\n",
       "      <td>82</td>\n",
       "      <td>10</td>\n",
       "      <td>89</td>\n",
       "      <td>80</td>\n",
       "      <td>33</td>\n",
       "      <td>3</td>\n",
       "    </tr>\n",
       "    <tr>\n",
       "      <td>3</td>\n",
       "      <td>2</td>\n",
       "      <td>95</td>\n",
       "      <td>1</td>\n",
       "      <td>96</td>\n",
       "      <td>32</td>\n",
       "      <td>6</td>\n",
       "      <td>40</td>\n",
       "      <td>31</td>\n",
       "      <td>9</td>\n",
       "      <td>59</td>\n",
       "      <td>2</td>\n",
       "    </tr>\n",
       "    <tr>\n",
       "      <td>4</td>\n",
       "      <td>53</td>\n",
       "      <td>1</td>\n",
       "      <td>47</td>\n",
       "      <td>93</td>\n",
       "      <td>26</td>\n",
       "      <td>3</td>\n",
       "      <td>46</td>\n",
       "      <td>16</td>\n",
       "      <td>42</td>\n",
       "      <td>39</td>\n",
       "      <td>4</td>\n",
       "    </tr>\n",
       "  </tbody>\n",
       "</table>\n",
       "</div>"
      ],
      "text/plain": [
       "           choice_0  choice_1  choice_2  choice_3  choice_4  choice_5  \\\n",
       "family_id                                                               \n",
       "0                52        38        12        82        33        75   \n",
       "1                26         4        82         5        11        47   \n",
       "2               100        54        25        12        27        82   \n",
       "3                 2        95         1        96        32         6   \n",
       "4                53         1        47        93        26         3   \n",
       "\n",
       "           choice_6  choice_7  choice_8  choice_9  n_people  \n",
       "family_id                                                    \n",
       "0                64        76        10        28         4  \n",
       "1                38         6        66        61         4  \n",
       "2                10        89        80        33         3  \n",
       "3                40        31         9        59         2  \n",
       "4                46        16        42        39         4  "
      ]
     },
     "execution_count": 13,
     "metadata": {},
     "output_type": "execute_result"
    }
   ],
   "source": [
    "data.head()"
   ]
  },
  {
   "cell_type": "code",
   "execution_count": 5,
   "metadata": {},
   "outputs": [
    {
     "name": "stdout",
     "output_type": "stream",
     "text": [
      "[  0 280  30  62  52  36   4  24   8  14  44  70  42  26  26  16  24  50\n",
      "  44  48  26  20  18  12  22  58  48  34  20  42  18  42  66  36   4  12\n",
      "  18  10  30  36  40   8   0  22  10  66  38  54  12  28   2   6  38  26\n",
      "  74  12  14   8   6  56  36  18   0   8   2   6  34  26  24   2   4   8\n",
      "   4  36  14  12   6   8   6   2  38  70  36  10   4   4   0  44  36  24\n",
      "  10  12   2   6  50  10  56  14   0  12   4]\n",
      "2690\n"
     ]
    }
   ],
   "source": [
    "daily_occupancy = np.zeros(101, dtype=np.int16)\n",
    "for _,i in data[(data.n_people==2)|(data.n_people==8)].reset_index().loc[:,[\"family_id\",\"choice_0\",\"n_people\"]].iterrows():\n",
    "    daily_occupancy[i[\"choice_0\"]]+=i[\"n_people\"]\n",
    "print(daily_occupancy)\n",
    "print(daily_occupancy.sum())"
   ]
  },
  {
   "cell_type": "code",
   "execution_count": null,
   "metadata": {},
   "outputs": [],
   "source": [
    "152\n",
    "168\n",
    "210\n",
    "285\n",
    "456\n",
    "177\n",
    "128"
   ]
  },
  {
   "cell_type": "code",
   "execution_count": 7,
   "metadata": {},
   "outputs": [
    {
     "data": {
      "text/plain": [
       "(874, 2)"
      ]
     },
     "execution_count": 7,
     "metadata": {},
     "output_type": "execute_result"
    }
   ],
   "source": [
    "data[(data.n_people==2)|(data.n_people==8)].reset_index().loc[:,[\"family_id\",\"choice_0\"]].values.shape"
   ]
  },
  {
   "cell_type": "code",
   "execution_count": 8,
   "metadata": {},
   "outputs": [],
   "source": [
    "with open(\"santa_first_choice.in\",\"w\") as f:\n",
    "    f.write(\" \".join(map(str,data[(data.n_people==2)|(data.n_people==8)].reset_index().loc[:,[\"family_id\",\"choice_0\"]].values.reshape(874*2))))"
   ]
  },
  {
   "cell_type": "code",
   "execution_count": null,
   "metadata": {},
   "outputs": [],
   "source": []
  },
  {
   "cell_type": "code",
   "execution_count": 100,
   "metadata": {},
   "outputs": [
    {
     "name": "stdout",
     "output_type": "stream",
     "text": [
      "[ 0 98 15 25 24 23 23  8 11 23 23 29 42  6 17  6  3 17 13 19  6  7  8 12\n",
      " 19 15 11 30 10  7 10 26 35 10  2  4  5 13 29 40 22  4  2  9  4 17 18 23\n",
      " 14 10  9  4 23  0 15  3  5  7  2  9  9 16  4  0  0  0 21 17  2  0  7  0\n",
      "  9 12  7  7  6  0  0  4 15 20 14  6  0  5  6 25 17 12  7 13  0  0  9 15\n",
      " 21  2  4  0  5]\n"
     ]
    }
   ],
   "source": [
    "daily_occupancy = np.zeros(101, dtype=np.int16)\n",
    "for i,r in enumerate(data.loc[data.n_people==7,\"choice_0\"].values):\n",
    "    daily_occupancy[r]+=FAMILY_SIZE[i]\n",
    "print(daily_occupancy)"
   ]
  },
  {
   "cell_type": "markdown",
   "metadata": {},
   "source": [
    "# check missing"
   ]
  },
  {
   "cell_type": "code",
   "execution_count": 31,
   "metadata": {},
   "outputs": [],
   "source": [
    "with open('proba.out',\"r\") as f:\n",
    "    proba = list(map(float,f.read().strip().split(\" \")))"
   ]
  },
  {
   "cell_type": "code",
   "execution_count": 46,
   "metadata": {},
   "outputs": [],
   "source": [
    "proba_results = []\n",
    "for i in range(0,5000*100,100):\n",
    "    proba_results.append(np.argmax(proba[i:i+100]))\n",
    "prediction = np.array(proba_results)"
   ]
  },
  {
   "cell_type": "code",
   "execution_count": 9,
   "metadata": {},
   "outputs": [
    {
     "data": {
      "text/plain": [
       "70621.9599671893"
      ]
     },
     "execution_count": 9,
     "metadata": {},
     "output_type": "execute_result"
    }
   ],
   "source": [
    "with open('santa.out',\"r\") as f:\n",
    "    results = list(map(int,f.read().strip().split(\" \")))\n",
    "prediction = np.array(results)-1\n",
    "cost_function(prediction)"
   ]
  },
  {
   "cell_type": "code",
   "execution_count": 10,
   "metadata": {},
   "outputs": [
    {
     "name": "stdout",
     "output_type": "stream",
     "text": [
      "63589 , 7033 , 70622, (125 , 300) , 0\n"
     ]
    }
   ],
   "source": [
    "penalty, accounting_cost, n_out_of_range, occupancy = cost_stats(prediction)\n",
    "print('{:.0f} , {:.0f} , {:.0f}, ({} , {}) , {}'.format(penalty.sum(), \n",
    "                                    accounting_cost.sum(), \n",
    "                                    cost_function(prediction),\n",
    "                                    occupancy.min(), \n",
    "                                    occupancy.max(),\n",
    "                                    n_out_of_range))"
   ]
  },
  {
   "cell_type": "code",
   "execution_count": 8,
   "metadata": {},
   "outputs": [
    {
     "name": "stdout",
     "output_type": "stream",
     "text": [
      "[333 312 312 300 288 264 247 253 274 296 302 296 275 271 255 276 297 293\n",
      " 278 253 235 241 264 293 310 298 280 268 255 255 280 279 256 221 193 172\n",
      " 209 242 263 248 221 194 196 220 256 274 259 236 210 195 228 258 249 222\n",
      " 187 149 123 214 241 218 184 139  89  88  62 246 214 174 125  67  79  86\n",
      " 239 222 188 146 118 122  92 220 214 182 137 105 122 125 255 234 203 161\n",
      " 123  88  72 226 208 176 130 106  83  66   0]\n"
     ]
    }
   ],
   "source": [
    "daily_occupancy = np.zeros(101, dtype=np.int16)\n",
    "for i,r in enumerate(prediction):\n",
    "    daily_occupancy[r]+=FAMILY_SIZE[i]\n",
    "print(daily_occupancy)"
   ]
  },
  {
   "cell_type": "code",
   "execution_count": 49,
   "metadata": {},
   "outputs": [
    {
     "name": "stdout",
     "output_type": "stream",
     "text": [
      "80970.23752186703\n"
     ]
    },
    {
     "data": {
      "application/vnd.jupyter.widget-view+json": {
       "model_id": "fd64a17b962241b79db312d47c6dfc44",
       "version_major": 2,
       "version_minor": 0
      },
      "text/plain": [
       "HBox(children=(IntProgress(value=0, max=5000), HTML(value='')))"
      ]
     },
     "metadata": {},
     "output_type": "display_data"
    },
    {
     "name": "stdout",
     "output_type": "stream",
     "text": [
      "80867.55735512116\n",
      "80780.32004766123\n",
      "80694.04143486127\n"
     ]
    },
    {
     "ename": "KeyboardInterrupt",
     "evalue": "",
     "output_type": "error",
     "traceback": [
      "\u001b[1;31m---------------------------------------------------------------------------\u001b[0m",
      "\u001b[1;31mKeyboardInterrupt\u001b[0m                         Traceback (most recent call last)",
      "\u001b[1;32m<ipython-input-49-b8f8c289c888>\u001b[0m in \u001b[0;36m<module>\u001b[1;34m\u001b[0m\n\u001b[0;32m      7\u001b[0m         \u001b[1;32mfor\u001b[0m \u001b[0mj\u001b[0m \u001b[1;32min\u001b[0m \u001b[0mrange\u001b[0m\u001b[1;33m(\u001b[0m\u001b[0mi\u001b[0m\u001b[1;33m+\u001b[0m\u001b[1;36m1\u001b[0m\u001b[1;33m,\u001b[0m\u001b[1;36m5000\u001b[0m\u001b[1;33m)\u001b[0m\u001b[1;33m:\u001b[0m\u001b[1;33m\u001b[0m\u001b[1;33m\u001b[0m\u001b[0m\n\u001b[0;32m      8\u001b[0m             \u001b[0mglobal_best\u001b[0m\u001b[1;33m[\u001b[0m\u001b[0mi\u001b[0m\u001b[1;33m]\u001b[0m\u001b[1;33m,\u001b[0m\u001b[0mglobal_best\u001b[0m\u001b[1;33m[\u001b[0m\u001b[0mj\u001b[0m\u001b[1;33m]\u001b[0m \u001b[1;33m=\u001b[0m \u001b[0mglobal_best\u001b[0m\u001b[1;33m[\u001b[0m\u001b[0mj\u001b[0m\u001b[1;33m]\u001b[0m\u001b[1;33m,\u001b[0m\u001b[0mglobal_best\u001b[0m\u001b[1;33m[\u001b[0m\u001b[0mi\u001b[0m\u001b[1;33m]\u001b[0m\u001b[1;33m\u001b[0m\u001b[1;33m\u001b[0m\u001b[0m\n\u001b[1;32m----> 9\u001b[1;33m             \u001b[0mcurrent_score\u001b[0m \u001b[1;33m=\u001b[0m \u001b[0mcost_function\u001b[0m\u001b[1;33m(\u001b[0m\u001b[0mglobal_best\u001b[0m\u001b[1;33m)\u001b[0m\u001b[1;33m\u001b[0m\u001b[1;33m\u001b[0m\u001b[0m\n\u001b[0m\u001b[0;32m     10\u001b[0m             \u001b[1;32mif\u001b[0m \u001b[0mcurrent_score\u001b[0m\u001b[1;33m<\u001b[0m\u001b[0mglobal_best_score\u001b[0m\u001b[1;33m:\u001b[0m\u001b[1;33m\u001b[0m\u001b[1;33m\u001b[0m\u001b[0m\n\u001b[0;32m     11\u001b[0m                 \u001b[0mglobal_best_score\u001b[0m \u001b[1;33m=\u001b[0m \u001b[0mcurrent_score\u001b[0m\u001b[1;33m\u001b[0m\u001b[1;33m\u001b[0m\u001b[0m\n",
      "\u001b[1;31mKeyboardInterrupt\u001b[0m: "
     ]
    }
   ],
   "source": [
    "global_best = prediction\n",
    "global_best_score = cost_function(global_best)\n",
    "print(global_best_score)\n",
    "previous_score = global_best_score\n",
    "while True:\n",
    "    for i in tqdm_notebook(range(5000)):\n",
    "        for j in range(i+1,5000):\n",
    "            global_best[i],global_best[j] = global_best[j],global_best[i]\n",
    "            current_score = cost_function(global_best)\n",
    "            if current_score<global_best_score:\n",
    "                global_best_score = current_score\n",
    "                print(current_score)\n",
    "            else:\n",
    "                global_best[i],global_best[j] = global_best[j],global_best[i]\n",
    "    if previous_score>global_best_score:\n",
    "        previous_score = global_best_score\n",
    "    else:\n",
    "        break"
   ]
  },
  {
   "cell_type": "code",
   "execution_count": 48,
   "metadata": {},
   "outputs": [
    {
     "name": "stdout",
     "output_type": "stream",
     "text": [
      "67471 , 13499 , 80970 , (125 , 300)\n"
     ]
    }
   ],
   "source": [
    "\n",
    "fixMinOccupancy(prediction)\n",
    "fixMaxOccupancy(prediction)\n",
    "penalty, accounting_cost, n_out_of_range, occupancy = cost_stats(prediction)\n",
    "print('{:.0f} , {:.0f} , {:.0f} , ({} , {})'.format(penalty.sum(), \n",
    "                                    accounting_cost.sum(), \n",
    "                                    cost_function(prediction),\n",
    "                                    occupancy.min(), \n",
    "                                    occupancy.max()))"
   ]
  },
  {
   "cell_type": "markdown",
   "metadata": {},
   "source": [
    "optimium_cost =  67309.4786351117    \n",
    "optimium_preference_cost =  61383.472062839195  \n",
    "optimium_accouting_cost  =  5926.006572272518"
   ]
  },
  {
   "cell_type": "code",
   "execution_count": 12,
   "metadata": {},
   "outputs": [
    {
     "name": "stdout",
     "output_type": "stream",
     "text": [
      "[300 285 300 299 279 252 240 244 261 285 300 298 276 264 257 280 299 294\n",
      " 274 246 223 237 258 285 299 291 271 256 245 247 275 268 243 208 178 148\n",
      " 125 271 265 241 209 175 155 126 297 284 260 229 200 179 215 250 249 225\n",
      " 191 157 125 219 247 233 202 161 125 127 125 249 220 183 139 125 125 126\n",
      " 207 199 171 128 125 125 125 226 207 174 129 125 126 125 248 225 199 158\n",
      " 125 127 125 225 206 172 126 125 125 126   0]\n"
     ]
    }
   ],
   "source": [
    "daily_occupancy = np.zeros(101, dtype=np.int16)\n",
    "for i,r in enumerate(prediction):\n",
    "    daily_occupancy[r]+=family_size[i]\n",
    "print(daily_occupancy)"
   ]
  },
  {
   "cell_type": "code",
   "execution_count": 10,
   "metadata": {},
   "outputs": [
    {
     "name": "stdout",
     "output_type": "stream",
     "text": [
      "[300 285 300 300 283 257 243 252 272 298 300 295 274 256 247 266 286 284\n",
      " 267 241 217 230 254 281 299 289 269 253 245 246 274 273 252 222 193 166\n",
      " 195 230 253 236 206 176 188 211 249 262 245 219 196 179 213 246 249 226\n",
      " 190 160 125 220 248 231 201 161 125 127 125 235 208 174 131 125 125 125\n",
      " 225 206 176 131 125 127 125 224 206 174 129 126 126 125 249 225 195 153\n",
      " 125 127 125 220 202 171 125 126 126 125   0]\n"
     ]
    }
   ],
   "source": [
    "df = pd.read_csv(\"submission.csv\")\n",
    "daily_occupancy = np.zeros(101, dtype=np.int16)\n",
    "for i,r in enumerate(df.assigned_day.values-1):\n",
    "    daily_occupancy[r]+=family_size[i]\n",
    "print(daily_occupancy)"
   ]
  },
  {
   "cell_type": "code",
   "execution_count": 36,
   "metadata": {},
   "outputs": [
    {
     "name": "stdout",
     "output_type": "stream",
     "text": [
      "66648 , 5041 , 71689, (125 , 300) , 0\n"
     ]
    }
   ],
   "source": [
    "penalty, accounting_cost, n_out_of_range, occupancy = cost_stats(df.assigned_day.values-1)\n",
    "print('{:.0f} , {:.0f} , {:.0f}, ({} , {}) , {}'.format(penalty.sum(), \n",
    "                                    accounting_cost.sum(), \n",
    "                                    cost_function(df.assigned_day.values-1),\n",
    "                                    occupancy.min(), \n",
    "                                    occupancy.max(),\n",
    "                                    n_out_of_range))"
   ]
  },
  {
   "cell_type": "code",
   "execution_count": null,
   "metadata": {},
   "outputs": [],
   "source": []
  },
  {
   "cell_type": "code",
   "execution_count": 20,
   "metadata": {},
   "outputs": [],
   "source": [
    "# sub = pd.read_csv(\"../sample_submission.csv\")\n",
    "# sub.assigned_day = results\n",
    "# sub.to_csv(f\"submission_localsolver_{score(results):.0f}.csv\",index=False)"
   ]
  },
  {
   "cell_type": "code",
   "execution_count": null,
   "metadata": {},
   "outputs": [],
   "source": [
    "sub = pd.DataFrame(range(N_FAMILIES), columns=['family_id'])\n",
    "sub['assigned_day'] = final+1\n",
    "sub.to_csv('submission.csv', index=False)"
   ]
  },
  {
   "cell_type": "code",
   "execution_count": null,
   "metadata": {},
   "outputs": [],
   "source": []
  }
 ],
 "metadata": {
  "kernelspec": {
   "display_name": "Python 3",
   "language": "python",
   "name": "python3"
  },
  "language_info": {
   "codemirror_mode": {
    "name": "ipython",
    "version": 3
   },
   "file_extension": ".py",
   "mimetype": "text/x-python",
   "name": "python",
   "nbconvert_exporter": "python",
   "pygments_lexer": "ipython3",
   "version": "3.6.8"
  }
 },
 "nbformat": 4,
 "nbformat_minor": 2
}
