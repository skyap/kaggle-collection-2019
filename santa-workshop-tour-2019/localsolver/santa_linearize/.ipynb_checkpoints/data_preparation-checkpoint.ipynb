{
 "cells": [
  {
   "cell_type": "code",
   "execution_count": 1,
   "metadata": {},
   "outputs": [],
   "source": [
    "import numpy as np\n",
    "import pandas as pd\n",
    "from numba import njit\n",
    "from tqdm import tqdm_notebook"
   ]
  },
  {
   "cell_type": "code",
   "execution_count": 45,
   "metadata": {},
   "outputs": [],
   "source": [
    "data = pd.read_csv(\"../../family_data.csv\",index_col = 'family_id')\n",
    "family_size = data.n_people.values.astype(np.int8)\n",
    "penalties = np.asarray([\n",
    "    [\n",
    "        0,\n",
    "        50,\n",
    "        50 + 9 * n,\n",
    "        100 + 9 * n,\n",
    "        200 + 9 * n,\n",
    "        200 + 18 * n,\n",
    "        300 + 18 * n,\n",
    "        300 + 36 * n,\n",
    "        400 + 36 * n,\n",
    "        500 + 36 * n + 199 * n,\n",
    "        500 + 36 * n + 398 * n\n",
    "    ] for n in range(family_size.max() + 1)\n",
    "])\n",
    "\n",
    "# penalties = np.asarray([\n",
    "#     [\n",
    "#         0,\n",
    "#         50,\n",
    "#         50 + 9 * n,\n",
    "#         100 + 9 * n,\n",
    "#         200 + 9 * n,\n",
    "#         1000000,\n",
    "#         1000000,\n",
    "#         1000000,\n",
    "#         1000000,\n",
    "#         1000000,\n",
    "#         1000000\n",
    "\n",
    "#     ] for n in range(family_size.max() + 1)\n",
    "# ])\n",
    "\n",
    "family_cost_matrix = np.concatenate(data.n_people.apply(lambda n: np.repeat(penalties[n, 10], 100).reshape(1, 100)))\n",
    "\n",
    "for fam in data.index:\n",
    "    for choice_order, day in enumerate(data.loc[fam].drop(\"n_people\")):\n",
    "        family_cost_matrix[fam, day - 1] = penalties[data.loc[fam, \"n_people\"], choice_order]\n",
    "\n",
    "\n",
    "# family_cost_matrix = np.zeros((5000,4),dtype=np.uint8)\n",
    "# for fam in data.index:\n",
    "#     for choice_order,day in enumerate(data.loc[fam].drop(\"n_people\")[:4]):\n",
    "#         family_cost_matrix[fam, choice_order] = penalties[data.loc[fam, \"n_people\"], choice_order]\n",
    "\n",
    "\n",
    "        \n",
    "accounting_cost_matrix = np.zeros((1000, 1000))\n",
    "for n in range(accounting_cost_matrix.shape[0]):\n",
    "    for n_p1 in range(accounting_cost_matrix.shape[1]):\n",
    "        diff = abs(n-n_p1)\n",
    "        accounting_cost_matrix[n, n_p1] = max(0, (n - 125.0) / 400.0 * n**(0.5 + diff / 50.0))\n",
    "accounting_cost_matrix = accounting_cost_matrix[125:301,125:301]\n",
    "        \n"
   ]
  },
  {
   "cell_type": "code",
   "execution_count": 17,
   "metadata": {},
   "outputs": [],
   "source": [
    "cost = lambda n,diff:max(0, (n - 125.0) / 400.0 * n**(0.5 + diff / 50.0))"
   ]
  },
  {
   "cell_type": "code",
   "execution_count": 49,
   "metadata": {},
   "outputs": [
    {
     "data": {
      "text/plain": [
       "3543750000.0"
      ]
     },
     "execution_count": 49,
     "metadata": {},
     "output_type": "execute_result"
    }
   ],
   "source": [
    "cost(300,175)"
   ]
  },
  {
   "cell_type": "code",
   "execution_count": 34,
   "metadata": {},
   "outputs": [
    {
     "data": {
      "text/plain": [
       "8.493390846991739"
      ]
     },
     "execution_count": 34,
     "metadata": {},
     "output_type": "execute_result"
    }
   ],
   "source": [
    "accounting_cost_matrix[175][1]"
   ]
  },
  {
   "cell_type": "code",
   "execution_count": 29,
   "metadata": {},
   "outputs": [
    {
     "data": {
      "text/plain": [
       "(176, 176)"
      ]
     },
     "execution_count": 29,
     "metadata": {},
     "output_type": "execute_result"
    }
   ],
   "source": [
    "accounting_cost_matrix.shape"
   ]
  },
  {
   "cell_type": "markdown",
   "metadata": {},
   "source": [
    "# input files"
   ]
  },
  {
   "cell_type": "code",
   "execution_count": 7,
   "metadata": {},
   "outputs": [],
   "source": [
    "with open('santa_size.in',\"w\") as f:\n",
    "    f.write(\" \".join(map(str,family_size)))"
   ]
  },
  {
   "cell_type": "code",
   "execution_count": 36,
   "metadata": {},
   "outputs": [],
   "source": [
    "with open('santa_cost.in',\"w\") as f:\n",
    "    f.write(\" \".join(map(str,family_cost_matrix.reshape(5000*100))))"
   ]
  },
  {
   "cell_type": "code",
   "execution_count": 26,
   "metadata": {},
   "outputs": [],
   "source": [
    "with open('santa_choice.in',\"w\") as f:\n",
    "    f.write(\" \".join(map(str,family_choice_matrix.reshape(5000*4))))"
   ]
  },
  {
   "cell_type": "code",
   "execution_count": 21,
   "metadata": {},
   "outputs": [],
   "source": [
    "with open('santa_acc_cost.in',\"w\") as f:\n",
    "    f.write(\" \".join(map(str,accounting_cost_matrix.reshape(500*500))))"
   ]
  },
  {
   "cell_type": "markdown",
   "metadata": {},
   "source": [
    "176x176 accouting cost matrix"
   ]
  },
  {
   "cell_type": "code",
   "execution_count": 46,
   "metadata": {},
   "outputs": [],
   "source": [
    "with open('santa_acc_cost.in',\"w\") as f:\n",
    "    f.write(\" \".join(map(str,accounting_cost_matrix.reshape(176*176))))"
   ]
  },
  {
   "cell_type": "code",
   "execution_count": 10,
   "metadata": {},
   "outputs": [],
   "source": [
    "with open('santa.out',\"w\") as f:\n",
    "    f.write(\" \".join(map(str,results)))"
   ]
  },
  {
   "cell_type": "markdown",
   "metadata": {},
   "source": [
    "submission.csv"
   ]
  },
  {
   "cell_type": "code",
   "execution_count": 18,
   "metadata": {},
   "outputs": [],
   "source": [
    "df = pd.read_csv(\"submission.csv\")\n",
    "with open('santa.out',\"w\") as f:\n",
    "    f.write(\" \".join(map(str,(df.assigned_day.values-1).tolist())))"
   ]
  },
  {
   "cell_type": "markdown",
   "metadata": {},
   "source": [
    "# output files"
   ]
  },
  {
   "cell_type": "code",
   "execution_count": 3,
   "metadata": {},
   "outputs": [
    {
     "ename": "NameError",
     "evalue": "name 'results' is not defined",
     "output_type": "error",
     "traceback": [
      "\u001b[1;31m---------------------------------------------------------------------------\u001b[0m",
      "\u001b[1;31mNameError\u001b[0m                                 Traceback (most recent call last)",
      "\u001b[1;32m<ipython-input-3-0705b04d7b31>\u001b[0m in \u001b[0;36m<module>\u001b[1;34m\u001b[0m\n\u001b[0;32m      1\u001b[0m \u001b[0mdaily_occupancy\u001b[0m \u001b[1;33m=\u001b[0m \u001b[0mnp\u001b[0m\u001b[1;33m.\u001b[0m\u001b[0mzeros\u001b[0m\u001b[1;33m(\u001b[0m\u001b[1;36m101\u001b[0m\u001b[1;33m,\u001b[0m \u001b[0mdtype\u001b[0m\u001b[1;33m=\u001b[0m\u001b[0mnp\u001b[0m\u001b[1;33m.\u001b[0m\u001b[0mint16\u001b[0m\u001b[1;33m)\u001b[0m\u001b[1;33m\u001b[0m\u001b[1;33m\u001b[0m\u001b[0m\n\u001b[1;32m----> 2\u001b[1;33m \u001b[1;32mfor\u001b[0m \u001b[0mi\u001b[0m\u001b[1;33m,\u001b[0m\u001b[0mr\u001b[0m \u001b[1;32min\u001b[0m \u001b[0menumerate\u001b[0m\u001b[1;33m(\u001b[0m\u001b[0mresults\u001b[0m\u001b[1;33m)\u001b[0m\u001b[1;33m:\u001b[0m\u001b[1;33m\u001b[0m\u001b[1;33m\u001b[0m\u001b[0m\n\u001b[0m\u001b[0;32m      3\u001b[0m     \u001b[0mdaily_occupancy\u001b[0m\u001b[1;33m[\u001b[0m\u001b[0mr\u001b[0m\u001b[1;33m]\u001b[0m\u001b[1;33m+=\u001b[0m\u001b[0mfamily_size\u001b[0m\u001b[1;33m[\u001b[0m\u001b[0mi\u001b[0m\u001b[1;33m]\u001b[0m\u001b[1;33m\u001b[0m\u001b[1;33m\u001b[0m\u001b[0m\n\u001b[0;32m      4\u001b[0m \u001b[0mprint\u001b[0m\u001b[1;33m(\u001b[0m\u001b[0mdaily_occupancy\u001b[0m\u001b[1;33m)\u001b[0m\u001b[1;33m\u001b[0m\u001b[1;33m\u001b[0m\u001b[0m\n",
      "\u001b[1;31mNameError\u001b[0m: name 'results' is not defined"
     ]
    }
   ],
   "source": []
  },
  {
   "cell_type": "code",
   "execution_count": null,
   "metadata": {},
   "outputs": [],
   "source": []
  },
  {
   "cell_type": "code",
   "execution_count": 2,
   "metadata": {},
   "outputs": [],
   "source": [
    "def get_penalty(n, choice):\n",
    "    penalty = None\n",
    "    if choice == 0:\n",
    "        penalty = 0\n",
    "    elif choice == 1:\n",
    "        penalty = 50\n",
    "    elif choice == 2:\n",
    "        penalty = 50 + 9 * n\n",
    "    elif choice == 3:\n",
    "        penalty = 100 + 9 * n\n",
    "    elif choice == 4:\n",
    "        penalty = 200 + 9 * n\n",
    "    elif choice == 5:\n",
    "        penalty = 200 + 18 * n\n",
    "    elif choice == 6:\n",
    "        penalty = 300 + 18 * n\n",
    "    elif choice == 7:\n",
    "        penalty = 300 + 36 * n\n",
    "    elif choice == 8:\n",
    "        penalty = 400 + 36 * n\n",
    "    elif choice == 9:\n",
    "        penalty = 500 + 36 * n + 199 * n\n",
    "    else:\n",
    "        penalty = 500 + 36 * n + 398 * n\n",
    "    return penalty\n",
    "\n",
    "\n",
    "def GetPreferenceCostMatrix(data):\n",
    "    cost_matrix = np.zeros((N_FAMILIES, N_DAYS), dtype=np.int64)\n",
    "    for i in range(N_FAMILIES):\n",
    "        desired = data.values[i, :-1]\n",
    "        cost_matrix[i, :] = get_penalty(FAMILY_SIZE[i], 10)\n",
    "        for j, day in enumerate(desired):\n",
    "            cost_matrix[i, day-1] = get_penalty(FAMILY_SIZE[i], j)\n",
    "    return cost_matrix\n",
    "\n",
    "\n",
    "def GetAccountingCostMatrix():\n",
    "    ac = np.zeros((1000, 1000), dtype=np.float64)\n",
    "    for n in range(ac.shape[0]):\n",
    "        for n_p1 in range(ac.shape[1]):\n",
    "            diff = abs(n - n_p1)\n",
    "            ac[n, n_p1] = max(0, (n - 125) / 400 * n**(0.5 + diff / 50.0))\n",
    "    return ac"
   ]
  },
  {
   "cell_type": "code",
   "execution_count": 3,
   "metadata": {},
   "outputs": [],
   "source": [
    "# cost_function, etc.\n",
    "\n",
    "# preference cost\n",
    "@njit(fastmath=True)\n",
    "def pcost(prediction):\n",
    "    daily_occupancy = np.zeros(N_DAYS+1, dtype=np.int64)\n",
    "    penalty = 0\n",
    "    for (i, p) in enumerate(prediction):\n",
    "        n = FAMILY_SIZE[i]\n",
    "        penalty += PCOSTM[i, p]\n",
    "        daily_occupancy[p] += n\n",
    "    return penalty, daily_occupancy\n",
    "\n",
    "\n",
    "# accounting cost\n",
    "@njit(fastmath=True)\n",
    "def acost(daily_occupancy):\n",
    "    accounting_cost = 0\n",
    "    n_out_of_range = 0\n",
    "    daily_occupancy[-1] = daily_occupancy[-2]\n",
    "    for day in range(N_DAYS):\n",
    "        n_p1 = daily_occupancy[day + 1]\n",
    "        n    = daily_occupancy[day]\n",
    "        n_out_of_range += (n > MAX_OCCUPANCY) or (n < MIN_OCCUPANCY)\n",
    "        accounting_cost += ACOSTM[n, n_p1]\n",
    "    return accounting_cost, n_out_of_range\n",
    "\n",
    "@njit(fastmath=True)\n",
    "def acostd(daily_occupancy):\n",
    "    accounting_cost = np.zeros(N_DAYS, dtype=np.float64)\n",
    "    n_out_of_range = 0\n",
    "    daily_occupancy[-1] = daily_occupancy[-2]\n",
    "    for day in range(N_DAYS):\n",
    "        n_p1 = daily_occupancy[day + 1]\n",
    "        n    = daily_occupancy[day]\n",
    "        n_out_of_range += (n > MAX_OCCUPANCY) or (n < MIN_OCCUPANCY)\n",
    "        accounting_cost[day] = ACOSTM[n, n_p1]\n",
    "    return accounting_cost, n_out_of_range\n",
    "\n",
    "@njit(fastmath=True)\n",
    "def pcostd(prediction):\n",
    "    daily_occupancy = np.zeros(N_DAYS+1, dtype=np.int64)\n",
    "    penalty = np.empty_like(prediction)\n",
    "    for (i, p) in enumerate(prediction):\n",
    "        n = FAMILY_SIZE[i]\n",
    "        penalty[i] = PCOSTM[i, p]\n",
    "        daily_occupancy[p] += n\n",
    "    return penalty, daily_occupancy\n",
    "\n",
    "@njit(fastmath=True)\n",
    "def cost_stats(prediction):\n",
    "    penalty, daily_occupancy = pcostd(prediction)\n",
    "    accounting_cost, n_out_of_range = acostd(daily_occupancy)\n",
    "    return penalty, accounting_cost, n_out_of_range, daily_occupancy[:-1]\n",
    "\n",
    "@njit(fastmath=True)\n",
    "def cost_function(prediction):\n",
    "    penalty, daily_occupancy = pcost(prediction)\n",
    "    accounting_cost, n_out_of_range = acost(daily_occupancy)\n",
    "    return penalty + accounting_cost + n_out_of_range*100000000"
   ]
  },
  {
   "cell_type": "code",
   "execution_count": 4,
   "metadata": {},
   "outputs": [],
   "source": [
    "@njit(fastmath=True)\n",
    "def cost_function_(prediction):\n",
    "    penalty, daily_occupancy = pcost(prediction)\n",
    "    accounting_cost, n_out_of_range = acost(daily_occupancy)\n",
    "    return penalty + accounting_cost, n_out_of_range\n",
    "\n",
    "@njit(fastmath=True)\n",
    "def findAnotherDay4Fam(prediction, fam, occupancy):\n",
    "    old_day = prediction[fam]\n",
    "    best_cost = np.inf\n",
    "    best_day = fam\n",
    "    n = FAMILY_SIZE[fam]\n",
    "    \n",
    "    daysrange = list(range(0,old_day))+list(range(old_day+1,N_DAYS))\n",
    "    for day in daysrange:\n",
    "        prediction[fam] = day\n",
    "        new_cost, _ = cost_function_(prediction)\n",
    "        \n",
    "        if (new_cost<best_cost) and (occupancy[day]+n<=MAX_OCCUPANCY):\n",
    "            best_cost = new_cost\n",
    "            best_day = day\n",
    "            \n",
    "    prediction[fam] = old_day\n",
    "    return best_day, best_cost\n",
    "\n",
    "@njit(fastmath=True)\n",
    "def bestFamAdd(prediction, day, occupancy):\n",
    "    best_cost = np.inf\n",
    "    best_fam = prediction[day]\n",
    "    for fam in np.where(prediction!=day)[0]:\n",
    "        old_day = prediction[fam]\n",
    "        prediction[fam] = day\n",
    "        new_cost, _ = cost_function_(prediction)\n",
    "        prediction[fam] = old_day\n",
    "        n = FAMILY_SIZE[fam]\n",
    "        if (new_cost<best_cost) and (occupancy[old_day]-n>=MIN_OCCUPANCY):\n",
    "            best_cost = new_cost\n",
    "            best_fam = fam   \n",
    "    return best_fam\n",
    "\n",
    "@njit(fastmath=True)\n",
    "def bestFamRemoval(prediction, day, occupancy):\n",
    "    best_cost = np.inf\n",
    "    best_day = day\n",
    "    \n",
    "    for fam in np.where(prediction==day)[0]:\n",
    "        new_day, new_cost = findAnotherDay4Fam(prediction, fam, occupancy)\n",
    "        if new_cost<best_cost:\n",
    "            best_cost = new_cost\n",
    "            best_fam = fam\n",
    "            best_day = new_day\n",
    "            \n",
    "    return best_fam, best_day\n",
    "\n",
    "@njit(fastmath=True)\n",
    "def fixMaxOccupancy(prediction):\n",
    "    penalty, accounting_cost, n_out_of_range, occupancy = cost_stats(prediction)\n",
    "\n",
    "    for day in np.where(occupancy>MAX_OCCUPANCY)[0]:\n",
    "        while occupancy[day]>MAX_OCCUPANCY:\n",
    "            fam, new_day = bestFamRemoval(prediction, day, occupancy)\n",
    "            prediction[fam] = new_day\n",
    "            penalty, accounting_cost, n_out_of_range, occupancy = cost_stats(prediction)\n",
    "            \n",
    "@njit(fastmath=True)            \n",
    "def fixMinOccupancy(prediction):\n",
    "    penalty, accounting_cost, n_out_of_range, occupancy = cost_stats(prediction)\n",
    "\n",
    "    for day in np.where(occupancy<MIN_OCCUPANCY)[0]:\n",
    "        while occupancy[day]<MIN_OCCUPANCY:\n",
    "            fam = bestFamAdd(prediction, day, occupancy)\n",
    "            prediction[fam] = day\n",
    "            penalty, accounting_cost, n_out_of_range, occupancy = cost_stats(prediction)"
   ]
  },
  {
   "cell_type": "code",
   "execution_count": 5,
   "metadata": {},
   "outputs": [],
   "source": [
    "@njit(fastmath=True)\n",
    "def findBetterDay4Family(pred):\n",
    "    fobs = np.argsort(FAMILY_SIZE)\n",
    "    score = cost_function(pred)\n",
    "    original_score = np.inf\n",
    "    \n",
    "    while original_score>score:\n",
    "        original_score = score\n",
    "        for family_id in fobs:\n",
    "            for pick in range(10):\n",
    "                day = DESIRED[family_id, pick]\n",
    "                oldvalue = pred[family_id]\n",
    "                pred[family_id] = day\n",
    "                new_score = cost_function(pred)\n",
    "                if new_score<score:\n",
    "                    score = new_score\n",
    "                else:\n",
    "                    pred[family_id] = oldvalue\n",
    "\n",
    "        print(score, end='\\r')\n",
    "    print(score)"
   ]
  },
  {
   "cell_type": "code",
   "execution_count": 74,
   "metadata": {},
   "outputs": [
    {
     "data": {
      "text/plain": [
       "61.76094536428627"
      ]
     },
     "execution_count": 74,
     "metadata": {},
     "output_type": "execute_result"
    }
   ],
   "source": [
    "cost(280,20)"
   ]
  },
  {
   "cell_type": "code",
   "execution_count": 75,
   "metadata": {},
   "outputs": [
    {
     "data": {
      "text/plain": [
       "61.76094536428627"
      ]
     },
     "execution_count": 75,
     "metadata": {},
     "output_type": "execute_result"
    }
   ],
   "source": [
    "accounting_cost_matrix[155,20]"
   ]
  },
  {
   "cell_type": "code",
   "execution_count": 71,
   "metadata": {},
   "outputs": [
    {
     "data": {
      "text/plain": [
       "61.76094536428627"
      ]
     },
     "execution_count": 71,
     "metadata": {},
     "output_type": "execute_result"
    }
   ],
   "source": [
    "ACOSTM[280,300]"
   ]
  },
  {
   "cell_type": "code",
   "execution_count": 6,
   "metadata": {},
   "outputs": [],
   "source": [
    "N_DAYS = 100\n",
    "N_FAMILIES = 5000\n",
    "MAX_OCCUPANCY = 300\n",
    "MIN_OCCUPANCY = 125\n",
    "\n",
    "data = pd.read_csv('../../family_data.csv', index_col='family_id')\n",
    "\n",
    "FAMILY_SIZE = data.n_people.values\n",
    "DESIRED     = data.values[:, :-1] - 1\n",
    "PCOSTM = GetPreferenceCostMatrix(data) # Preference cost matrix\n",
    "ACOSTM = GetAccountingCostMatrix()     # Accounting cost matrix"
   ]
  },
  {
   "cell_type": "markdown",
   "metadata": {},
   "source": [
    "# check missing"
   ]
  },
  {
   "cell_type": "code",
   "execution_count": 55,
   "metadata": {},
   "outputs": [
    {
     "data": {
      "text/plain": [
       "5000"
      ]
     },
     "execution_count": 55,
     "metadata": {},
     "output_type": "execute_result"
    }
   ],
   "source": [
    "with open('santa.out',\"r\") as f:\n",
    "    results = list(map(int,f.read().strip().split(\" \")))\n",
    "prediction = np.array(results)\n",
    "len(prediction)"
   ]
  },
  {
   "cell_type": "code",
   "execution_count": 56,
   "metadata": {},
   "outputs": [
    {
     "data": {
      "text/plain": [
       "'130,412,397.30'"
      ]
     },
     "execution_count": 56,
     "metadata": {},
     "output_type": "execute_result"
    }
   ],
   "source": [
    "\"{:,.2f}\".format(cost_function(prediction))"
   ]
  },
  {
   "cell_type": "code",
   "execution_count": 57,
   "metadata": {},
   "outputs": [
    {
     "name": "stdout",
     "output_type": "stream",
     "text": [
      "1453145 , 128959252 , 130412397, (127 , 300), 0\n"
     ]
    }
   ],
   "source": [
    "penalty, accounting_cost, n_out_of_range, occupancy = cost_stats(prediction)\n",
    "print('{:.0f} , {:.0f} , {:.0f}, ({} , {}), {}'.format(penalty.sum(), \n",
    "                                    accounting_cost.sum(), \n",
    "                                    cost_function(prediction),\n",
    "                                    occupancy.min(), \n",
    "                                    occupancy.max(),\n",
    "                                    n_out_of_range))"
   ]
  },
  {
   "cell_type": "code",
   "execution_count": 49,
   "metadata": {},
   "outputs": [
    {
     "name": "stdout",
     "output_type": "stream",
     "text": [
      "80970.23752186703\n"
     ]
    },
    {
     "data": {
      "application/vnd.jupyter.widget-view+json": {
       "model_id": "fd64a17b962241b79db312d47c6dfc44",
       "version_major": 2,
       "version_minor": 0
      },
      "text/plain": [
       "HBox(children=(IntProgress(value=0, max=5000), HTML(value='')))"
      ]
     },
     "metadata": {},
     "output_type": "display_data"
    },
    {
     "name": "stdout",
     "output_type": "stream",
     "text": [
      "80867.55735512116\n",
      "80780.32004766123\n",
      "80694.04143486127\n"
     ]
    },
    {
     "ename": "KeyboardInterrupt",
     "evalue": "",
     "output_type": "error",
     "traceback": [
      "\u001b[1;31m---------------------------------------------------------------------------\u001b[0m",
      "\u001b[1;31mKeyboardInterrupt\u001b[0m                         Traceback (most recent call last)",
      "\u001b[1;32m<ipython-input-49-b8f8c289c888>\u001b[0m in \u001b[0;36m<module>\u001b[1;34m\u001b[0m\n\u001b[0;32m      7\u001b[0m         \u001b[1;32mfor\u001b[0m \u001b[0mj\u001b[0m \u001b[1;32min\u001b[0m \u001b[0mrange\u001b[0m\u001b[1;33m(\u001b[0m\u001b[0mi\u001b[0m\u001b[1;33m+\u001b[0m\u001b[1;36m1\u001b[0m\u001b[1;33m,\u001b[0m\u001b[1;36m5000\u001b[0m\u001b[1;33m)\u001b[0m\u001b[1;33m:\u001b[0m\u001b[1;33m\u001b[0m\u001b[1;33m\u001b[0m\u001b[0m\n\u001b[0;32m      8\u001b[0m             \u001b[0mglobal_best\u001b[0m\u001b[1;33m[\u001b[0m\u001b[0mi\u001b[0m\u001b[1;33m]\u001b[0m\u001b[1;33m,\u001b[0m\u001b[0mglobal_best\u001b[0m\u001b[1;33m[\u001b[0m\u001b[0mj\u001b[0m\u001b[1;33m]\u001b[0m \u001b[1;33m=\u001b[0m \u001b[0mglobal_best\u001b[0m\u001b[1;33m[\u001b[0m\u001b[0mj\u001b[0m\u001b[1;33m]\u001b[0m\u001b[1;33m,\u001b[0m\u001b[0mglobal_best\u001b[0m\u001b[1;33m[\u001b[0m\u001b[0mi\u001b[0m\u001b[1;33m]\u001b[0m\u001b[1;33m\u001b[0m\u001b[1;33m\u001b[0m\u001b[0m\n\u001b[1;32m----> 9\u001b[1;33m             \u001b[0mcurrent_score\u001b[0m \u001b[1;33m=\u001b[0m \u001b[0mcost_function\u001b[0m\u001b[1;33m(\u001b[0m\u001b[0mglobal_best\u001b[0m\u001b[1;33m)\u001b[0m\u001b[1;33m\u001b[0m\u001b[1;33m\u001b[0m\u001b[0m\n\u001b[0m\u001b[0;32m     10\u001b[0m             \u001b[1;32mif\u001b[0m \u001b[0mcurrent_score\u001b[0m\u001b[1;33m<\u001b[0m\u001b[0mglobal_best_score\u001b[0m\u001b[1;33m:\u001b[0m\u001b[1;33m\u001b[0m\u001b[1;33m\u001b[0m\u001b[0m\n\u001b[0;32m     11\u001b[0m                 \u001b[0mglobal_best_score\u001b[0m \u001b[1;33m=\u001b[0m \u001b[0mcurrent_score\u001b[0m\u001b[1;33m\u001b[0m\u001b[1;33m\u001b[0m\u001b[0m\n",
      "\u001b[1;31mKeyboardInterrupt\u001b[0m: "
     ]
    }
   ],
   "source": [
    "global_best = prediction\n",
    "global_best_score = cost_function(global_best)\n",
    "print(global_best_score)\n",
    "previous_score = global_best_score\n",
    "while True:\n",
    "    for i in tqdm_notebook(range(5000)):\n",
    "        for j in range(i+1,5000):\n",
    "            global_best[i],global_best[j] = global_best[j],global_best[i]\n",
    "            current_score = cost_function(global_best)\n",
    "            if current_score<global_best_score:\n",
    "                global_best_score = current_score\n",
    "                print(current_score)\n",
    "            else:\n",
    "                global_best[i],global_best[j] = global_best[j],global_best[i]\n",
    "    if previous_score>global_best_score:\n",
    "        previous_score = global_best_score\n",
    "    else:\n",
    "        break"
   ]
  },
  {
   "cell_type": "code",
   "execution_count": 48,
   "metadata": {},
   "outputs": [
    {
     "name": "stdout",
     "output_type": "stream",
     "text": [
      "67471 , 13499 , 80970 , (125 , 300)\n"
     ]
    }
   ],
   "source": [
    "\n",
    "fixMinOccupancy(prediction)\n",
    "fixMaxOccupancy(prediction)\n",
    "penalty, accounting_cost, n_out_of_range, occupancy = cost_stats(prediction)\n",
    "print('{:.0f} , {:.0f} , {:.0f} , ({} , {})'.format(penalty.sum(), \n",
    "                                    accounting_cost.sum(), \n",
    "                                    cost_function(prediction),\n",
    "                                    occupancy.min(), \n",
    "                                    occupancy.max()))"
   ]
  },
  {
   "cell_type": "markdown",
   "metadata": {},
   "source": [
    "optimium_cost =  67309.4786351117    \n",
    "optimium_preference_cost =  61383.472062839195  \n",
    "optimium_accouting_cost  =  5926.006572272518"
   ]
  },
  {
   "cell_type": "code",
   "execution_count": 52,
   "metadata": {},
   "outputs": [
    {
     "name": "stdout",
     "output_type": "stream",
     "text": [
      "[298 248 299 278 220 140 170 242 175 247 248 264 221 263 242 223 168 173\n",
      " 278 260 206 185 137 216 233 183 221 217 140 209 254 265 287 211 199 212\n",
      " 166 184 260 263 213 201 293 187 152 252 275 248 197 270 163 129 150 214\n",
      " 179 158 271 280 292 218 191 169 211 195 186 236 257 171 186 134 128 156\n",
      " 200 185 219 151 144 176 140 221 218 215 164 146 146 140 294 231 195 167\n",
      " 234 206 275 249 250 180 130 265 270 125   0]\n"
     ]
    }
   ],
   "source": [
    "daily_occupancy = np.zeros(101, dtype=np.int16)\n",
    "for i,r in enumerate(prediction):\n",
    "    daily_occupancy[r]+=FAMILY_SIZE[i]\n",
    "print(daily_occupancy)"
   ]
  },
  {
   "cell_type": "code",
   "execution_count": 53,
   "metadata": {},
   "outputs": [
    {
     "data": {
      "text/plain": [
       "71528972.15092494"
      ]
     },
     "execution_count": 53,
     "metadata": {},
     "output_type": "execute_result"
    }
   ],
   "source": [
    "account_cost = 0        \n",
    "\n",
    "        \n",
    "for i in range(len(daily_occupancy)-1):\n",
    "    account_cost+=accounting_cost_matrix[daily_occupancy[i]-125,daily_occupancy[i+1]-125]\n",
    "#     account_cost+=ACOSTM[daily_occupancy[i],daily_occupancy[i+1]]\n",
    "#     print(accounting_cost_matrix[daily_occupancy[i]-125,daily_occupancy[i+1]-125],ACOSTM[daily_occupancy[i],daily_occupancy[i+1]])\n",
    "    \n",
    "account_cost"
   ]
  },
  {
   "cell_type": "code",
   "execution_count": null,
   "metadata": {},
   "outputs": [],
   "source": []
  },
  {
   "cell_type": "code",
   "execution_count": 9,
   "metadata": {},
   "outputs": [],
   "source": [
    "# sub = pd.read_csv(\"../sample_submission.csv\")\n",
    "# sub.assigned_day = results\n",
    "# sub.to_csv(f\"submission_localsolver_{score(results):.0f}.csv\",index=False)"
   ]
  },
  {
   "cell_type": "code",
   "execution_count": null,
   "metadata": {},
   "outputs": [],
   "source": [
    "sub = pd.DataFrame(range(N_FAMILIES), columns=['family_id'])\n",
    "sub['assigned_day'] = final+1\n",
    "sub.to_csv('submission.csv', index=False)"
   ]
  }
 ],
 "metadata": {
  "kernelspec": {
   "display_name": "Python 3",
   "language": "python",
   "name": "python3"
  },
  "language_info": {
   "codemirror_mode": {
    "name": "ipython",
    "version": 3
   },
   "file_extension": ".py",
   "mimetype": "text/x-python",
   "name": "python",
   "nbconvert_exporter": "python",
   "pygments_lexer": "ipython3",
   "version": "3.6.8"
  }
 },
 "nbformat": 4,
 "nbformat_minor": 2
}
