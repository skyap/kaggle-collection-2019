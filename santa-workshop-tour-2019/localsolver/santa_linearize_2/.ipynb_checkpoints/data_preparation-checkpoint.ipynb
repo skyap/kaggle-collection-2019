{
 "cells": [
  {
   "cell_type": "code",
   "execution_count": 1,
   "metadata": {},
   "outputs": [],
   "source": [
    "import numpy as np\n",
    "import pandas as pd\n",
    "from numba import njit\n",
    "from tqdm import tqdm_notebook"
   ]
  },
  {
   "cell_type": "code",
   "execution_count": 12,
   "metadata": {},
   "outputs": [],
   "source": [
    "data = pd.read_csv(\"../../family_data.csv\",index_col = 'family_id')\n",
    "family_size = data.n_people.values.astype(np.int8)\n",
    "penalties = np.asarray([\n",
    "    [\n",
    "        0,\n",
    "        50,\n",
    "        50 + 9 * n,\n",
    "        100 + 9 * n,\n",
    "        200 + 9 * n,\n",
    "        200 + 18 * n,\n",
    "        300 + 18 * n,\n",
    "        300 + 36 * n,\n",
    "        400 + 36 * n,\n",
    "        500 + 36 * n + 199 * n,\n",
    "        500 + 36 * n + 398 * n\n",
    "    ] for n in range(family_size.max() + 1)\n",
    "])\n",
    "\n",
    "# penalties = np.asarray([\n",
    "#     [\n",
    "#         0,\n",
    "#         50,\n",
    "#         50 + 9 * n,\n",
    "#         100 + 9 * n,\n",
    "#         200 + 9 * n,\n",
    "#         1000000,\n",
    "#         1000000,\n",
    "#         1000000,\n",
    "#         1000000,\n",
    "#         1000000,\n",
    "#         1000000\n",
    "\n",
    "#     ] for n in range(family_size.max() + 1)\n",
    "# ])\n",
    "\n",
    "family_cost_matrix = np.concatenate(data.n_people.apply(lambda n: np.repeat(penalties[n, 10], 100).reshape(1, 100)))\n",
    "\n",
    "for fam in data.index:\n",
    "    for choice_order, day in enumerate(data.loc[fam].drop(\"n_people\")):\n",
    "        family_cost_matrix[fam, day - 1] = penalties[data.loc[fam, \"n_people\"], choice_order]\n",
    "\n",
    "\n",
    "# family_cost_matrix = np.zeros((5000,4),dtype=np.uint8)\n",
    "# for fam in data.index:\n",
    "#     for choice_order,day in enumerate(data.loc[fam].drop(\"n_people\")[:4]):\n",
    "#         family_cost_matrix[fam, choice_order] = penalties[data.loc[fam, \"n_people\"], choice_order]\n",
    "\n",
    "\n",
    "        \n",
    "accounting_cost_matrix = np.zeros((1000, 1000))\n",
    "for n in range(accounting_cost_matrix.shape[0]):\n",
    "    for n_p1 in range(accounting_cost_matrix.shape[1]):\n",
    "        diff = abs(n-n_p1)\n",
    "        accounting_cost_matrix[n, n_p1] = max(0, (n - 125.0) / 400.0 * n**(0.5 + diff / 50.0))\n",
    "accounting_cost_matrix = accounting_cost_matrix[125:301,125:301]\n",
    "        \n"
   ]
  },
  {
   "cell_type": "code",
   "execution_count": 17,
   "metadata": {},
   "outputs": [],
   "source": [
    "cost = lambda n,diff:max(0, (n - 125.0) / 400.0 * n**(0.5 + diff / 50.0))"
   ]
  },
  {
   "cell_type": "code",
   "execution_count": 49,
   "metadata": {},
   "outputs": [
    {
     "data": {
      "text/plain": [
       "3543750000.0"
      ]
     },
     "execution_count": 49,
     "metadata": {},
     "output_type": "execute_result"
    }
   ],
   "source": [
    "cost(300,175)"
   ]
  },
  {
   "cell_type": "code",
   "execution_count": 34,
   "metadata": {},
   "outputs": [
    {
     "data": {
      "text/plain": [
       "8.493390846991739"
      ]
     },
     "execution_count": 34,
     "metadata": {},
     "output_type": "execute_result"
    }
   ],
   "source": [
    "accounting_cost_matrix[175][1]"
   ]
  },
  {
   "cell_type": "code",
   "execution_count": 29,
   "metadata": {},
   "outputs": [
    {
     "data": {
      "text/plain": [
       "(176, 176)"
      ]
     },
     "execution_count": 29,
     "metadata": {},
     "output_type": "execute_result"
    }
   ],
   "source": [
    "accounting_cost_matrix.shape"
   ]
  },
  {
   "cell_type": "markdown",
   "metadata": {},
   "source": [
    "# input files"
   ]
  },
  {
   "cell_type": "code",
   "execution_count": 7,
   "metadata": {},
   "outputs": [],
   "source": [
    "with open('santa_size.in',\"w\") as f:\n",
    "    f.write(\" \".join(map(str,family_size)))"
   ]
  },
  {
   "cell_type": "code",
   "execution_count": 36,
   "metadata": {},
   "outputs": [],
   "source": [
    "with open('santa_cost.in',\"w\") as f:\n",
    "    f.write(\" \".join(map(str,family_cost_matrix.reshape(5000*100))))"
   ]
  },
  {
   "cell_type": "code",
   "execution_count": 26,
   "metadata": {},
   "outputs": [],
   "source": [
    "with open('santa_choice.in',\"w\") as f:\n",
    "    f.write(\" \".join(map(str,family_choice_matrix.reshape(5000*4))))"
   ]
  },
  {
   "cell_type": "code",
   "execution_count": 21,
   "metadata": {},
   "outputs": [],
   "source": [
    "with open('santa_acc_cost.in',\"w\") as f:\n",
    "    f.write(\" \".join(map(str,accounting_cost_matrix.reshape(500*500))))"
   ]
  },
  {
   "cell_type": "markdown",
   "metadata": {},
   "source": [
    "176x176 accouting cost matrix"
   ]
  },
  {
   "cell_type": "code",
   "execution_count": 46,
   "metadata": {},
   "outputs": [],
   "source": [
    "with open('santa_acc_cost.in',\"w\") as f:\n",
    "    f.write(\" \".join(map(str,accounting_cost_matrix.reshape(176*176))))"
   ]
  },
  {
   "cell_type": "code",
   "execution_count": 10,
   "metadata": {},
   "outputs": [],
   "source": [
    "with open('santa.out',\"w\") as f:\n",
    "    f.write(\" \".join(map(str,results)))"
   ]
  },
  {
   "cell_type": "markdown",
   "metadata": {},
   "source": [
    "submission.csv"
   ]
  },
  {
   "cell_type": "code",
   "execution_count": 18,
   "metadata": {},
   "outputs": [],
   "source": [
    "df = pd.read_csv(\"submission.csv\")\n",
    "with open('santa.out',\"w\") as f:\n",
    "    f.write(\" \".join(map(str,(df.assigned_day.values-1).tolist())))"
   ]
  },
  {
   "cell_type": "markdown",
   "metadata": {},
   "source": [
    "# output files"
   ]
  },
  {
   "cell_type": "code",
   "execution_count": 2,
   "metadata": {},
   "outputs": [],
   "source": [
    "def get_penalty(n, choice):\n",
    "    penalty = None\n",
    "    if choice == 0:\n",
    "        penalty = 0\n",
    "    elif choice == 1:\n",
    "        penalty = 50\n",
    "    elif choice == 2:\n",
    "        penalty = 50 + 9 * n\n",
    "    elif choice == 3:\n",
    "        penalty = 100 + 9 * n\n",
    "    elif choice == 4:\n",
    "        penalty = 200 + 9 * n\n",
    "    elif choice == 5:\n",
    "        penalty = 200 + 18 * n\n",
    "    elif choice == 6:\n",
    "        penalty = 300 + 18 * n\n",
    "    elif choice == 7:\n",
    "        penalty = 300 + 36 * n\n",
    "    elif choice == 8:\n",
    "        penalty = 400 + 36 * n\n",
    "    elif choice == 9:\n",
    "        penalty = 500 + 36 * n + 199 * n\n",
    "    else:\n",
    "        penalty = 500 + 36 * n + 398 * n\n",
    "    return penalty\n",
    "\n",
    "\n",
    "def GetPreferenceCostMatrix(data):\n",
    "    cost_matrix = np.zeros((N_FAMILIES, N_DAYS), dtype=np.int64)\n",
    "    for i in range(N_FAMILIES):\n",
    "        desired = data.values[i, :-1]\n",
    "        cost_matrix[i, :] = get_penalty(FAMILY_SIZE[i], 10)\n",
    "        for j, day in enumerate(desired):\n",
    "            cost_matrix[i, day-1] = get_penalty(FAMILY_SIZE[i], j)\n",
    "    return cost_matrix\n",
    "\n",
    "\n",
    "def GetAccountingCostMatrix():\n",
    "    ac = np.zeros((1000, 1000), dtype=np.float64)\n",
    "    for n in range(ac.shape[0]):\n",
    "        for n_p1 in range(ac.shape[1]):\n",
    "            diff = abs(n - n_p1)\n",
    "            ac[n, n_p1] = max(0, (n - 125) / 400 * n**(0.5 + diff / 50.0))\n",
    "    return ac"
   ]
  },
  {
   "cell_type": "code",
   "execution_count": 3,
   "metadata": {},
   "outputs": [],
   "source": [
    "# cost_function, etc.\n",
    "\n",
    "# preference cost\n",
    "@njit(fastmath=True)\n",
    "def pcost(prediction):\n",
    "    daily_occupancy = np.zeros(N_DAYS+1, dtype=np.int64)\n",
    "    penalty = 0\n",
    "    for (i, p) in enumerate(prediction):\n",
    "        n = FAMILY_SIZE[i]\n",
    "        penalty += PCOSTM[i, p]\n",
    "        daily_occupancy[p] += n\n",
    "    return penalty, daily_occupancy\n",
    "\n",
    "\n",
    "# accounting cost\n",
    "@njit(fastmath=True)\n",
    "def acost(daily_occupancy):\n",
    "    accounting_cost = 0\n",
    "    n_out_of_range = 0\n",
    "    daily_occupancy[-1] = daily_occupancy[-2]\n",
    "    for day in range(N_DAYS):\n",
    "        n_p1 = daily_occupancy[day + 1]\n",
    "        n    = daily_occupancy[day]\n",
    "        n_out_of_range += (n > MAX_OCCUPANCY) or (n < MIN_OCCUPANCY)\n",
    "        accounting_cost += ACOSTM[n, n_p1]\n",
    "    return accounting_cost, n_out_of_range\n",
    "\n",
    "@njit(fastmath=True)\n",
    "def acostd(daily_occupancy):\n",
    "    accounting_cost = np.zeros(N_DAYS, dtype=np.float64)\n",
    "    n_out_of_range = 0\n",
    "    daily_occupancy[-1] = daily_occupancy[-2]\n",
    "    for day in range(N_DAYS):\n",
    "        n_p1 = daily_occupancy[day + 1]\n",
    "        n    = daily_occupancy[day]\n",
    "        n_out_of_range += (n > MAX_OCCUPANCY) or (n < MIN_OCCUPANCY)\n",
    "        accounting_cost[day] = ACOSTM[n, n_p1]\n",
    "    return accounting_cost, n_out_of_range\n",
    "\n",
    "@njit(fastmath=True)\n",
    "def pcostd(prediction):\n",
    "    daily_occupancy = np.zeros(N_DAYS+1, dtype=np.int64)\n",
    "    penalty = np.empty_like(prediction)\n",
    "    for (i, p) in enumerate(prediction):\n",
    "        n = FAMILY_SIZE[i]\n",
    "        penalty[i] = PCOSTM[i, p]\n",
    "        daily_occupancy[p] += n\n",
    "    return penalty, daily_occupancy\n",
    "\n",
    "@njit(fastmath=True)\n",
    "def cost_stats(prediction):\n",
    "    penalty, daily_occupancy = pcostd(prediction)\n",
    "    accounting_cost, n_out_of_range = acostd(daily_occupancy)\n",
    "    return penalty, accounting_cost, n_out_of_range, daily_occupancy[:-1]\n",
    "\n",
    "@njit(fastmath=True)\n",
    "def cost_function(prediction):\n",
    "    penalty, daily_occupancy = pcost(prediction)\n",
    "    accounting_cost, n_out_of_range = acost(daily_occupancy)\n",
    "    return penalty + accounting_cost + n_out_of_range*100000000"
   ]
  },
  {
   "cell_type": "code",
   "execution_count": 4,
   "metadata": {},
   "outputs": [],
   "source": [
    "@njit(fastmath=True)\n",
    "def cost_function_(prediction):\n",
    "    penalty, daily_occupancy = pcost(prediction)\n",
    "    accounting_cost, n_out_of_range = acost(daily_occupancy)\n",
    "    return penalty + accounting_cost, n_out_of_range\n",
    "\n",
    "@njit(fastmath=True)\n",
    "def findAnotherDay4Fam(prediction, fam, occupancy):\n",
    "    old_day = prediction[fam]\n",
    "    best_cost = np.inf\n",
    "    best_day = fam\n",
    "    n = FAMILY_SIZE[fam]\n",
    "    \n",
    "    daysrange = list(range(0,old_day))+list(range(old_day+1,N_DAYS))\n",
    "    for day in daysrange:\n",
    "        prediction[fam] = day\n",
    "        new_cost, _ = cost_function_(prediction)\n",
    "        \n",
    "        if (new_cost<best_cost) and (occupancy[day]+n<=MAX_OCCUPANCY):\n",
    "            best_cost = new_cost\n",
    "            best_day = day\n",
    "            \n",
    "    prediction[fam] = old_day\n",
    "    return best_day, best_cost\n",
    "\n",
    "@njit(fastmath=True)\n",
    "def bestFamAdd(prediction, day, occupancy):\n",
    "    best_cost = np.inf\n",
    "    best_fam = prediction[day]\n",
    "    for fam in np.where(prediction!=day)[0]:\n",
    "        old_day = prediction[fam]\n",
    "        prediction[fam] = day\n",
    "        new_cost, _ = cost_function_(prediction)\n",
    "        prediction[fam] = old_day\n",
    "        n = FAMILY_SIZE[fam]\n",
    "        if (new_cost<best_cost) and (occupancy[old_day]-n>=MIN_OCCUPANCY):\n",
    "            best_cost = new_cost\n",
    "            best_fam = fam   \n",
    "    return best_fam\n",
    "\n",
    "@njit(fastmath=True)\n",
    "def bestFamRemoval(prediction, day, occupancy):\n",
    "    best_cost = np.inf\n",
    "    best_day = day\n",
    "    \n",
    "    for fam in np.where(prediction==day)[0]:\n",
    "        new_day, new_cost = findAnotherDay4Fam(prediction, fam, occupancy)\n",
    "        if new_cost<best_cost:\n",
    "            best_cost = new_cost\n",
    "            best_fam = fam\n",
    "            best_day = new_day\n",
    "            \n",
    "    return best_fam, best_day\n",
    "\n",
    "@njit(fastmath=True)\n",
    "def fixMaxOccupancy(prediction):\n",
    "    penalty, accounting_cost, n_out_of_range, occupancy = cost_stats(prediction)\n",
    "\n",
    "    for day in np.where(occupancy>MAX_OCCUPANCY)[0]:\n",
    "        while occupancy[day]>MAX_OCCUPANCY:\n",
    "            fam, new_day = bestFamRemoval(prediction, day, occupancy)\n",
    "            prediction[fam] = new_day\n",
    "            penalty, accounting_cost, n_out_of_range, occupancy = cost_stats(prediction)\n",
    "            \n",
    "@njit(fastmath=True)            \n",
    "def fixMinOccupancy(prediction):\n",
    "    penalty, accounting_cost, n_out_of_range, occupancy = cost_stats(prediction)\n",
    "\n",
    "    for day in np.where(occupancy<MIN_OCCUPANCY)[0]:\n",
    "        while occupancy[day]<MIN_OCCUPANCY:\n",
    "            fam = bestFamAdd(prediction, day, occupancy)\n",
    "            prediction[fam] = day\n",
    "            penalty, accounting_cost, n_out_of_range, occupancy = cost_stats(prediction)"
   ]
  },
  {
   "cell_type": "code",
   "execution_count": 5,
   "metadata": {},
   "outputs": [],
   "source": [
    "@njit(fastmath=True)\n",
    "def findBetterDay4Family(pred):\n",
    "    fobs = np.argsort(FAMILY_SIZE)\n",
    "    score = cost_function(pred)\n",
    "    original_score = np.inf\n",
    "    \n",
    "    while original_score>score:\n",
    "        original_score = score\n",
    "        for family_id in fobs:\n",
    "            for pick in range(10):\n",
    "                day = DESIRED[family_id, pick]\n",
    "                oldvalue = pred[family_id]\n",
    "                pred[family_id] = day\n",
    "                new_score = cost_function(pred)\n",
    "                if new_score<score:\n",
    "                    score = new_score\n",
    "                else:\n",
    "                    pred[family_id] = oldvalue\n",
    "\n",
    "        print(score, end='\\r')\n",
    "    print(score)"
   ]
  },
  {
   "cell_type": "code",
   "execution_count": 6,
   "metadata": {},
   "outputs": [],
   "source": [
    "N_DAYS = 100\n",
    "N_FAMILIES = 5000\n",
    "MAX_OCCUPANCY = 300\n",
    "MIN_OCCUPANCY = 125\n",
    "\n",
    "data = pd.read_csv('../../family_data.csv', index_col='family_id')\n",
    "\n",
    "FAMILY_SIZE = data.n_people.values\n",
    "DESIRED     = data.values[:, :-1] - 1\n",
    "PCOSTM = GetPreferenceCostMatrix(data) # Preference cost matrix\n",
    "ACOSTM = GetAccountingCostMatrix()     # Accounting cost matrix"
   ]
  },
  {
   "cell_type": "code",
   "execution_count": 7,
   "metadata": {},
   "outputs": [
    {
     "data": {
      "text/plain": [
       "7.577722283113839"
      ]
     },
     "execution_count": 7,
     "metadata": {},
     "output_type": "execute_result"
    }
   ],
   "source": [
    "ACOSTM[300,300]"
   ]
  },
  {
   "cell_type": "markdown",
   "metadata": {},
   "source": [
    "# check missing"
   ]
  },
  {
   "cell_type": "code",
   "execution_count": 83,
   "metadata": {},
   "outputs": [],
   "source": [
    "with open('santa.out',\"r\") as f:\n",
    "    results = list(map(int,f.read().strip().split(\" \")))\n",
    "prediction = np.array(results)\n"
   ]
  },
  {
   "cell_type": "code",
   "execution_count": 84,
   "metadata": {},
   "outputs": [
    {
     "name": "stdout",
     "output_type": "stream",
     "text": [
      "13,230,632\n",
      "8992730 , 4,237,902 , 13230632, (127 , 294), 0\n"
     ]
    }
   ],
   "source": [
    "if len(prediction) == 5000:\n",
    "\n",
    "    print(\"{:,.0f}\".format(cost_function(prediction)))\n",
    "    penalty, accounting_cost, n_out_of_range, occupancy = cost_stats(prediction)\n",
    "    print('{:.0f} , {:,.0f} , {:.0f}, ({} , {}), {}'.format(penalty.sum(), \n",
    "                                        accounting_cost.sum(), \n",
    "                                        cost_function(prediction),\n",
    "                                        occupancy.min(), \n",
    "                                        occupancy.max(),\n",
    "                                        n_out_of_range))"
   ]
  },
  {
   "cell_type": "markdown",
   "metadata": {},
   "source": [
    "optimium_cost =  67309.4786351117    \n",
    "optimium_preference_cost =  61383.472062839195  \n",
    "optimium_accouting_cost  =  5926.006572272518"
   ]
  },
  {
   "cell_type": "code",
   "execution_count": 65,
   "metadata": {},
   "outputs": [
    {
     "name": "stdout",
     "output_type": "stream",
     "text": [
      "[223 258 216 268 193 187 230 162 261 185 191 177 166 159 239 204 260 223\n",
      " 226 202 146 202 196 166 198 210 236 140 257 184 255 193 159 195 252 214\n",
      " 226 255 208 190 218 229 167 240 250 231 248 222 167 203 207 164 183 153\n",
      " 229 236 237 216 188 180 221 199 269 164 179 153 173 155 233 228 228 280\n",
      " 253 215 253 134 202 161 152 191 208 193 221 201 225 201 275 237 254 268\n",
      " 276 256 204 225 198 205 196 210 231 196   0]\n",
      "21003\n"
     ]
    }
   ],
   "source": [
    "daily_occupancy = np.zeros(101, dtype=np.int16)\n",
    "for i,r in enumerate(prediction):\n",
    "    daily_occupancy[r]+=FAMILY_SIZE[i]\n",
    "print(daily_occupancy)\n",
    "print(sum(daily_occupancy))\n",
    "daily_occupancy[-1]=daily_occupancy[-2]"
   ]
  },
  {
   "cell_type": "code",
   "execution_count": 66,
   "metadata": {},
   "outputs": [],
   "source": [
    "with open('day.out',\"r\") as f:\n",
    "    dayout = list(map(int,f.read().strip().split(\" \")))"
   ]
  },
  {
   "cell_type": "code",
   "execution_count": 67,
   "metadata": {},
   "outputs": [
    {
     "name": "stdout",
     "output_type": "stream",
     "text": [
      "[223 258 216 268 193 187 230 162 261 185 191 177 166 159 239 204 260 223\n",
      " 226 202 146 202 196 166 198 210 236 140 257 184 255 193 159 195 252 214\n",
      " 226 255 208 190 218 229 167 240 250 231 248 222 167 203 207 164 183 153\n",
      " 229 236 237 216 188 180 221 199 269 164 179 153 173 155 233 228 228 280\n",
      " 253 215 253 134 202 161 152 191 208 193 221 201 225 201 275 237 254 268\n",
      " 276 256 204 225 198 205 196 210 231 196 196]\n"
     ]
    }
   ],
   "source": [
    "print(np.array(dayout))\n",
    "sum(dayout)\n",
    "dayout=np.array(dayout)"
   ]
  },
  {
   "cell_type": "code",
   "execution_count": 68,
   "metadata": {},
   "outputs": [],
   "source": [
    "for i in range(100):\n",
    "    if daily_occupancy[i]!=dayout[i]:\n",
    "        print(i)"
   ]
  },
  {
   "cell_type": "code",
   "execution_count": 69,
   "metadata": {},
   "outputs": [
    {
     "name": "stdout",
     "output_type": "stream",
     "text": [
      "\n",
      "3,766,542\n"
     ]
    }
   ],
   "source": [
    "account_cost = 0        \n",
    "\n",
    "        \n",
    "for i in range(len(daily_occupancy)-1):\n",
    "#     account_cost+=ACOSTM[daily_occupancy[i],daily_occupancy[i+1]]\n",
    "#     account_cost+=ACOSTM[daily_occupancy[i],daily_occupancy[i+1]]\n",
    "#     print(daily_occupancy[i],daily_occupancy[i+1])\n",
    "    account_cost+=accounting_cost_matrix[daily_occupancy[i]-125,daily_occupancy[i+1]-125]\n",
    "#     print(accounting_cost_matrix[daily_occupancy[i]-125,daily_occupancy[i+1]-125],ACOSTM[daily_occupancy[i],daily_occupancy[i+1]])\n",
    "    \n",
    "print()\n",
    "print(\"{:,.0f}\".format(account_cost))"
   ]
  },
  {
   "cell_type": "code",
   "execution_count": 70,
   "metadata": {},
   "outputs": [
    {
     "name": "stdout",
     "output_type": "stream",
     "text": [
      "\n",
      "3,766,542\n"
     ]
    }
   ],
   "source": [
    "account_cost = 0        \n",
    "\n",
    "        \n",
    "for i in range(len(dayout)-1):\n",
    "#     account_cost+=ACOSTM[daily_occupancy[i],daily_occupancy[i+1]]\n",
    "#     account_cost+=ACOSTM[daily_occupancy[i],daily_occupancy[i+1]]\n",
    "#     print(dayout[i],dayout[i+1])\n",
    "    account_cost+=accounting_cost_matrix[dayout[i]-125,dayout[i+1]-125]\n",
    "#     print(accounting_cost_matrix[daily_occupancy[i]-125,daily_occupancy[i+1]-125],ACOSTM[daily_occupancy[i],daily_occupancy[i+1]])\n",
    "    \n",
    "print()\n",
    "print(\"{:,.0f}\".format(account_cost))"
   ]
  },
  {
   "cell_type": "code",
   "execution_count": 9,
   "metadata": {},
   "outputs": [],
   "source": [
    "# sub = pd.read_csv(\"../sample_submission.csv\")\n",
    "# sub.assigned_day = results\n",
    "# sub.to_csv(f\"submission_localsolver_{score(results):.0f}.csv\",index=False)"
   ]
  },
  {
   "cell_type": "code",
   "execution_count": null,
   "metadata": {},
   "outputs": [],
   "source": [
    "sub = pd.DataFrame(range(N_FAMILIES), columns=['family_id'])\n",
    "sub['assigned_day'] = final+1\n",
    "sub.to_csv('submission.csv', index=False)"
   ]
  }
 ],
 "metadata": {
  "kernelspec": {
   "display_name": "Python 3",
   "language": "python",
   "name": "python3"
  },
  "language_info": {
   "codemirror_mode": {
    "name": "ipython",
    "version": 3
   },
   "file_extension": ".py",
   "mimetype": "text/x-python",
   "name": "python",
   "nbconvert_exporter": "python",
   "pygments_lexer": "ipython3",
   "version": "3.6.8"
  }
 },
 "nbformat": 4,
 "nbformat_minor": 2
}
