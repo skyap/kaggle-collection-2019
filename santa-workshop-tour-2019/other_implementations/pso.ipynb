{
 "cells": [
  {
   "cell_type": "code",
   "execution_count": 1,
   "metadata": {},
   "outputs": [],
   "source": [
    "import pandas as pd\n",
    "import numpy as np\n",
    "import os"
   ]
  },
  {
   "cell_type": "code",
   "execution_count": 2,
   "metadata": {},
   "outputs": [],
   "source": [
    "df = pd.read_csv(\"family_data.csv\")"
   ]
  },
  {
   "cell_type": "code",
   "execution_count": 3,
   "metadata": {},
   "outputs": [
    {
     "data": {
      "text/plain": [
       "32.37286002335816"
      ]
     },
     "execution_count": 3,
     "metadata": {},
     "output_type": "execute_result"
    }
   ],
   "source": [
    "np.random.uniform(-50,50)"
   ]
  },
  {
   "cell_type": "code",
   "execution_count": 4,
   "metadata": {},
   "outputs": [],
   "source": [
    "class Particle:\n",
    "    def __init__(self):\n",
    "        self.position = np.array([np.random.uniform(-50,50),np.random.uniform(-50,50)])\n",
    "        self.pbest_position = self.position\n",
    "        self.pbest_value = float('inf')\n",
    "        self.velocity = np.array([0,0])\n",
    "    def __str__(self):\n",
    "        print(f'position {self.position} pbest {self.pbest_position}')\n",
    "        \n",
    "    def move(self):\n",
    "        self.position = self.position + self.velocity\n",
    "        "
   ]
  },
  {
   "cell_type": "code",
   "execution_count": 7,
   "metadata": {},
   "outputs": [],
   "source": [
    "class Space():\n",
    "\n",
    "    def __init__(self, target, target_error, n_particles):\n",
    "        self.target = target\n",
    "        self.target_error = target_error\n",
    "        self.n_particles = n_particles\n",
    "        self.particles = []\n",
    "        self.gbest_value = float('inf')\n",
    "        self.gbest_position = np.array([np.random.uniform(-50,50),np.random.uniform(-50,50)])\n",
    "        self.W = 0.5\n",
    "        self.c1 = 0.8\n",
    "        self.c2 = 0.9 \n",
    "\n",
    "    def print_particles(self):\n",
    "        for particle in self.particles:\n",
    "            particle.__str__()\n",
    "   \n",
    "    def fitness(self, particle):\n",
    "        return particle.position[0] ** 2 + particle.position[1] ** 2 + 1\n",
    "\n",
    "    def set_pbest(self):\n",
    "        for particle in self.particles:\n",
    "            fitness_cadidate = self.fitness(particle)\n",
    "            if(particle.pbest_value > fitness_cadidate):\n",
    "                particle.pbest_value = fitness_cadidate\n",
    "                particle.pbest_position = particle.position\n",
    "            \n",
    "\n",
    "    def set_gbest(self):\n",
    "        for particle in self.particles:\n",
    "            best_fitness_cadidate = self.fitness(particle)\n",
    "            if(self.gbest_value > best_fitness_cadidate):\n",
    "                self.gbest_value = best_fitness_cadidate\n",
    "                self.gbest_position = particle.position\n",
    "\n",
    "    def move_particles(self):\n",
    "        for particle in self.particles:\n",
    "            global W\n",
    "            new_velocity = (self.W*particle.velocity) + \\\n",
    "                            (self.c1*np.random.random()) * (particle.pbest_position - particle.position) + \\\n",
    "                            (np.random.random()*self.c2) * (self.gbest_position - particle.position)\n",
    "            particle.velocity = new_velocity\n",
    "            particle.move()"
   ]
  },
  {
   "cell_type": "code",
   "execution_count": 8,
   "metadata": {},
   "outputs": [
    {
     "name": "stdout",
     "output_type": "stream",
     "text": [
      "position [ 8.01017594 -0.45425172] pbest [ 8.01017594 -0.45425172]\n",
      "position [-32.46896038  47.47881388] pbest [-32.46896038  47.47881388]\n",
      "position [-36.34328545 -30.01556624] pbest [-36.34328545 -30.01556624]\n",
      "position [-29.28724095 -13.69503654] pbest [-29.28724095 -13.69503654]\n",
      "position [-2.45211537 37.01599146] pbest [-2.45211537 37.01599146]\n",
      "position [ 16.5320675  -44.74826968] pbest [ 16.5320675  -44.74826968]\n",
      "position [42.90384042 49.73542302] pbest [42.90384042 49.73542302]\n",
      "position [-36.29501691  39.67072863] pbest [-36.29501691  39.67072863]\n",
      "position [-40.30634301  34.42608031] pbest [-40.30634301  34.42608031]\n",
      "position [ 49.87990247 -13.09232315] pbest [ 49.87990247 -13.09232315]\n",
      "position [-0.51976805 32.6847174 ] pbest [-0.51976805 32.6847174 ]\n",
      "position [-32.74994967  21.81439689] pbest [-32.74994967  21.81439689]\n",
      "position [ 42.09836878 -38.8084778 ] pbest [ 42.09836878 -38.8084778 ]\n",
      "position [ 7.88253071 10.86678244] pbest [ 7.88253071 10.86678244]\n",
      "position [-45.67453034   9.2853232 ] pbest [-45.67453034   9.2853232 ]\n",
      "position [46.5799086  38.51427959] pbest [46.5799086  38.51427959]\n",
      "position [-32.19715537  31.83975289] pbest [-32.19715537  31.83975289]\n",
      "position [ 24.37088305 -14.4020887 ] pbest [ 24.37088305 -14.4020887 ]\n",
      "position [-21.43791394 -24.05725838] pbest [-21.43791394 -24.05725838]\n",
      "position [-19.25824141 -20.69343691] pbest [-19.25824141 -20.69343691]\n",
      "position [ 0.52467165 48.64806451] pbest [ 0.52467165 48.64806451]\n",
      "position [13.68169789 -7.97442735] pbest [13.68169789 -7.97442735]\n",
      "position [ 15.39408995 -17.13264412] pbest [ 15.39408995 -17.13264412]\n",
      "position [-33.28598892 -37.72106033] pbest [-33.28598892 -37.72106033]\n",
      "position [ 45.75623863 -34.56281965] pbest [ 45.75623863 -34.56281965]\n",
      "position [  4.68807495 -49.35584689] pbest [  4.68807495 -49.35584689]\n",
      "position [33.29078499 25.45747938] pbest [33.29078499 25.45747938]\n",
      "position [-42.40052434  -0.68178533] pbest [-42.40052434  -0.68178533]\n",
      "position [ 2.09159743 11.7542609 ] pbest [ 2.09159743 11.7542609 ]\n",
      "position [-24.58082864 -11.75369974] pbest [-24.58082864 -11.75369974]\n",
      "The best solution is:  [0.00055121 0.00017149]  in n_iterations:  24\n"
     ]
    }
   ],
   "source": [
    "target_error = 1e-6\n",
    "n_particles = 30\n",
    "n_iterations = 50\n",
    "search_space = Space(1, target_error, n_particles)\n",
    "particles_vector = [Particle() for _ in range(search_space.n_particles)]\n",
    "search_space.particles = particles_vector\n",
    "search_space.print_particles()\n",
    "\n",
    "iteration = 0\n",
    "while(iteration < n_iterations):\n",
    "    search_space.set_pbest()    \n",
    "    search_space.set_gbest()\n",
    "\n",
    "    if(abs(search_space.gbest_value - search_space.target) <= search_space.target_error):\n",
    "        break\n",
    "\n",
    "    search_space.move_particles()\n",
    "    iteration += 1\n",
    "    \n",
    "print(\"The best solution is: \", search_space.gbest_position, \" in n_iterations: \", iteration)"
   ]
  },
  {
   "cell_type": "code",
   "execution_count": 10,
   "metadata": {},
   "outputs": [
    {
     "name": "stdout",
     "output_type": "stream",
     "text": [
      "0\n",
      "1\n",
      "1\n",
      "0\n",
      "-1\n",
      "-1\n",
      "-1\n",
      "-1\n",
      "0\n",
      "-1\n"
     ]
    }
   ],
   "source": [
    "import random\n",
    "for i in range(10):\n",
    "    print(random.randint(-1,1))"
   ]
  },
  {
   "cell_type": "code",
   "execution_count": null,
   "metadata": {},
   "outputs": [],
   "source": []
  }
 ],
 "metadata": {
  "kernelspec": {
   "display_name": "Python 3",
   "language": "python",
   "name": "python3"
  },
  "language_info": {
   "codemirror_mode": {
    "name": "ipython",
    "version": 3
   },
   "file_extension": ".py",
   "mimetype": "text/x-python",
   "name": "python",
   "nbconvert_exporter": "python",
   "pygments_lexer": "ipython3",
   "version": "3.6.8"
  }
 },
 "nbformat": 4,
 "nbformat_minor": 2
}
